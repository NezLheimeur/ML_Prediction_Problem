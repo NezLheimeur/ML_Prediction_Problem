{
 "cells": [
  {
   "cell_type": "markdown",
   "metadata": {},
   "source": [
    "# KaggleInClass project"
   ]
  },
  {
   "cell_type": "markdown",
   "metadata": {
    "editable": true
   },
   "source": [
    "In this competition, you will be challenged to predict the number of shares an article will get on social media, from the article's topic, length, day of publication, and many other features.\n",
    "\n",
    "You are given labels, that is, number of shares, for 5000 of these articles; your task is to predict labels for the remaining 2000 articles."
   ]
  },
  {
   "cell_type": "code",
   "execution_count": 1,
   "metadata": {
    "editable": true
   },
   "outputs": [
    {
     "name": "stdout",
     "output_type": "stream",
     "text": [
      "Populating the interactive namespace from numpy and matplotlib\n"
     ]
    },
    {
     "name": "stderr",
     "output_type": "stream",
     "text": [
      "/opt/tljh/user/lib/python3.6/site-packages/statsmodels/tools/_testing.py:19: FutureWarning: pandas.util.testing is deprecated. Use the functions in the public API at pandas.testing instead.\n",
      "  import pandas.util.testing as tm\n"
     ]
    }
   ],
   "source": [
    "# load useful libraries\n",
    "import pandas as pd\n",
    "%pylab inline\n",
    "\n",
    "from pandas import plotting\n",
    "import seaborn as sn\n",
    "\n",
    "from sklearn import preprocessing\n",
    "\n",
    "from sklearn.model_selection import StratifiedKFold\n",
    "from sklearn.model_selection import GridSearchCV\n",
    "\n",
    "from sklearn.model_selection import cross_val_score\n",
    "from sklearn import metrics\n",
    "\n",
    "from sklearn import linear_model\n",
    "from sklearn.svm import SVR\n",
    "from sklearn.ensemble import RandomForestRegressor\n",
    "\n",
    "from sklearn.metrics import mean_squared_log_error\n",
    "\n",
    "from sklearn.model_selection import cross_val_predict\n",
    "\n",
    "from sklearn.tree import DecisionTreeRegressor\n",
    "from sklearn.ensemble import BaggingRegressor\n",
    "\n",
    "from sklearn.ensemble import GradientBoostingRegressor\n",
    "from sklearn.metrics import make_scorer\n",
    "\n",
    "import warnings\n",
    "warnings.filterwarnings(\"ignore\", category=FutureWarning)"
   ]
  },
  {
   "cell_type": "markdown",
   "metadata": {
    "editable": true
   },
   "source": [
    "### Data upload\n",
    "First let's upload the different data infomations. \n",
    "We will upload the features, the training data in \"feature_data\", the training data labels in \"target_data\", and the testing data in \"test_data\" "
   ]
  },
  {
   "cell_type": "code",
   "execution_count": 2,
   "metadata": {
    "editable": true,
    "scrolled": true
   },
   "outputs": [
    {
     "name": "stdout",
     "output_type": "stream",
     "text": [
      "nb_words_title  Number of words in the article's titles\n",
      "nb_words_content  Number of words in the article\n",
      "pp_uniq_words  Proportion of unique words in the article\n",
      "pp_stop_words  Proportion of stop words (i.e. words predefined to be too common to be of use for interpretation or queries, such as 'the', 'a', 'and', etc.)\n",
      "pp_uniq_non-stop_words  Proportion of non-stop words among unique words\n",
      "nb_links  Number of hyperlinks in the article\n",
      "nb_outside_links  Number of hyperlinks pointing to another website\n",
      "nb_images  Number of images in the article\n",
      "nb_videos  Number of videos in the article\n",
      "ave_word_length  Average word length\n",
      "nb_keywords  Number of keywords in the metadata\n",
      "category  Category of the article: 0-Lifestyle, 1-Entertainment, 2-Business, 3-Web, 4-Tech, 5-World\n",
      "nb_mina_mink  Minimum number of share counts among all articles with at least one keyword in common with the article\n",
      "nb_mina_maxk  Minimum number of maximum share counts per keyword\n",
      "nb_mina_avek  Minimum number of average share counts per keyword\n",
      "nb_maxa_mink  Maximum number of minimum share counts per keyword\n",
      "nb_maxa_maxk  Maximum number of share counts among all articles with at least one keyword in common with the article\n",
      "nb_maxa_avek  Maximum number of average share counts per keyword\n",
      "nb_avea_mink  Average number of minimum share counts per keyword\n",
      "nb_avea_maxk  Average number of maximum share counts per keyword\n",
      "nb_avea_avek  Average number of average share counts per keyword\n",
      "nb_min_linked  Minimum number of shares of articles from the same website linked within the article\n",
      "nb_max_linked  Maximum number of shares of articles from the same website linked within the article\n",
      "nb_ave_linked  Average number of shares of articles from the same website linked within the article\n",
      "weekday  Day of the week: 0-Monday, 1-Tuesday, 2-Wednesday, until 6-Sunday\n",
      "dist_topic_0  Distance to topic 0\n",
      "dist_topic_1  Distance to topic 1\n",
      "dist_topic_2  Distance to topic 2\n",
      "dist_topic_3  Distance to topic 3\n",
      "dist_topic_4  Distance to topic 4\n",
      "subj  Subjectivity\n",
      "polar  Sentiment polarity \n",
      "pp_pos_words  Proportion of positive words in the article\n",
      "pp_neg_words  Proportion of negative words in the article\n",
      "pp_pos_words_in_nonneutral  Proportion of positive words among the non-neutral words of the article\n",
      "ave_polar_pos  Average sentiment polarity of the positive words\n",
      "min_polar_pos  Minimum sentiment polarity of the positive words\n",
      "max_polar_pos  Maximum sentiment polarity of the positive words\n",
      "ave_polar_neg  Average sentiment polarity of the negative words\n",
      "min_polar_neg  Mimimum sentiment polarity of the negative words\n",
      "max_polar_neg  Maximum sentiment polarity of the negative words\n",
      "subj_title  Subjectivity of the title\n",
      "polar_title  Polarity of the title\n"
     ]
    }
   ],
   "source": [
    "# we display the description of the features\n",
    "!cat data/features.txt"
   ]
  },
  {
   "cell_type": "code",
   "execution_count": 3,
   "metadata": {
    "editable": true
   },
   "outputs": [
    {
     "name": "stderr",
     "output_type": "stream",
     "text": [
      "/opt/tljh/user/lib/python3.6/site-packages/ipykernel_launcher.py:2: ParserWarning: Falling back to the 'python' engine because the 'c' engine does not support regex separators (separators > 1 char and different from '\\s+' are interpreted as regex); you can avoid this warning by specifying engine='python'.\n",
      "  \n"
     ]
    },
    {
     "data": {
      "text/html": [
       "<div>\n",
       "<style scoped>\n",
       "    .dataframe tbody tr th:only-of-type {\n",
       "        vertical-align: middle;\n",
       "    }\n",
       "\n",
       "    .dataframe tbody tr th {\n",
       "        vertical-align: top;\n",
       "    }\n",
       "\n",
       "    .dataframe thead th {\n",
       "        text-align: right;\n",
       "    }\n",
       "</style>\n",
       "<table border=\"1\" class=\"dataframe\">\n",
       "  <thead>\n",
       "    <tr style=\"text-align: right;\">\n",
       "      <th></th>\n",
       "      <th>feature_names</th>\n",
       "      <th>feature_description</th>\n",
       "    </tr>\n",
       "  </thead>\n",
       "  <tbody>\n",
       "    <tr>\n",
       "      <th>0</th>\n",
       "      <td>nb_words_title</td>\n",
       "      <td>Number of words in the article's titles</td>\n",
       "    </tr>\n",
       "    <tr>\n",
       "      <th>1</th>\n",
       "      <td>nb_words_content</td>\n",
       "      <td>Number of words in the article</td>\n",
       "    </tr>\n",
       "    <tr>\n",
       "      <th>2</th>\n",
       "      <td>pp_uniq_words</td>\n",
       "      <td>Proportion of unique words in the article</td>\n",
       "    </tr>\n",
       "    <tr>\n",
       "      <th>3</th>\n",
       "      <td>pp_stop_words</td>\n",
       "      <td>Proportion of stop words (i.e. words predefine...</td>\n",
       "    </tr>\n",
       "    <tr>\n",
       "      <th>4</th>\n",
       "      <td>pp_uniq_non-stop_words</td>\n",
       "      <td>Proportion of non-stop words among unique words</td>\n",
       "    </tr>\n",
       "  </tbody>\n",
       "</table>\n",
       "</div>"
      ],
      "text/plain": [
       "            feature_names                                feature_description\n",
       "0          nb_words_title            Number of words in the article's titles\n",
       "1        nb_words_content                     Number of words in the article\n",
       "2           pp_uniq_words          Proportion of unique words in the article\n",
       "3           pp_stop_words  Proportion of stop words (i.e. words predefine...\n",
       "4  pp_uniq_non-stop_words    Proportion of non-stop words among unique words"
      ]
     },
     "execution_count": 3,
     "metadata": {},
     "output_type": "execute_result"
    }
   ],
   "source": [
    "#upload of the features\n",
    "feature_data = pd.read_csv('data/features.txt', header=None, sep=\"  \", names=['feature_names', 'feature_description'])\n",
    "feature_data.head(5)"
   ]
  },
  {
   "cell_type": "markdown",
   "metadata": {
    "editable": true
   },
   "source": [
    "** Now, let's load and look at the distribution of number of shares (output). **"
   ]
  },
  {
   "cell_type": "code",
   "execution_count": 4,
   "metadata": {
    "editable": true
   },
   "outputs": [
    {
     "data": {
      "text/html": [
       "<div>\n",
       "<style scoped>\n",
       "    .dataframe tbody tr th:only-of-type {\n",
       "        vertical-align: middle;\n",
       "    }\n",
       "\n",
       "    .dataframe tbody tr th {\n",
       "        vertical-align: top;\n",
       "    }\n",
       "\n",
       "    .dataframe thead th {\n",
       "        text-align: right;\n",
       "    }\n",
       "</style>\n",
       "<table border=\"1\" class=\"dataframe\">\n",
       "  <thead>\n",
       "    <tr style=\"text-align: right;\">\n",
       "      <th></th>\n",
       "      <th>Id</th>\n",
       "      <th>Prediction</th>\n",
       "    </tr>\n",
       "  </thead>\n",
       "  <tbody>\n",
       "    <tr>\n",
       "      <th>0</th>\n",
       "      <td>2000</td>\n",
       "      <td>882</td>\n",
       "    </tr>\n",
       "    <tr>\n",
       "      <th>1</th>\n",
       "      <td>2001</td>\n",
       "      <td>1102</td>\n",
       "    </tr>\n",
       "    <tr>\n",
       "      <th>2</th>\n",
       "      <td>2002</td>\n",
       "      <td>1102</td>\n",
       "    </tr>\n",
       "    <tr>\n",
       "      <th>3</th>\n",
       "      <td>2003</td>\n",
       "      <td>1001</td>\n",
       "    </tr>\n",
       "    <tr>\n",
       "      <th>4</th>\n",
       "      <td>2004</td>\n",
       "      <td>1603</td>\n",
       "    </tr>\n",
       "  </tbody>\n",
       "</table>\n",
       "</div>"
      ],
      "text/plain": [
       "     Id  Prediction\n",
       "0  2000         882\n",
       "1  2001        1102\n",
       "2  2002        1102\n",
       "3  2003        1001\n",
       "4  2004        1603"
      ]
     },
     "execution_count": 4,
     "metadata": {},
     "output_type": "execute_result"
    }
   ],
   "source": [
    "target_data = pd.read_csv('data/train-targets.csv', sep=\",\")\n",
    "target_data.head(5)"
   ]
  },
  {
   "cell_type": "markdown",
   "metadata": {},
   "source": [
    "According to the labels variying in <b>R</b>  we understang that is a regression problem. </n>\n",
    "Let's visualize the histogram of the label to see their distribution"
   ]
  },
  {
   "cell_type": "code",
   "execution_count": 5,
   "metadata": {
    "editable": true,
    "scrolled": true
   },
   "outputs": [
    {
     "data": {
      "text/plain": [
       "(0.0, 10000.0)"
      ]
     },
     "execution_count": 5,
     "metadata": {},
     "output_type": "execute_result"
    },
    {
     "data": {
      "image/png": "[encoded data removed]",
      "text/plain": [
       "<Figure size 432x288 with 1 Axes>"
      ]
     },
     "metadata": {
      "needs_background": "light"
     },
     "output_type": "display_data"
    }
   ],
   "source": [
    "y_tr = target_data['Prediction'].values\n",
    "plt.hist(y_tr,bins=2000)\n",
    "plt.xlim((0,10000))"
   ]
  },
  {
   "cell_type": "markdown",
   "metadata": {},
   "source": [
    "the distribution is somehow following a normal distribution"
   ]
  },
  {
   "cell_type": "markdown",
   "metadata": {
    "editable": true
   },
   "source": [
    "** Now, let's load and visualize the features. **"
   ]
  },
  {
   "cell_type": "code",
   "execution_count": 6,
   "metadata": {
    "editable": true,
    "scrolled": true
   },
   "outputs": [
    {
     "data": {
      "text/html": [
       "<div>\n",
       "<style scoped>\n",
       "    .dataframe tbody tr th:only-of-type {\n",
       "        vertical-align: middle;\n",
       "    }\n",
       "\n",
       "    .dataframe tbody tr th {\n",
       "        vertical-align: top;\n",
       "    }\n",
       "\n",
       "    .dataframe thead th {\n",
       "        text-align: right;\n",
       "    }\n",
       "</style>\n",
       "<table border=\"1\" class=\"dataframe\">\n",
       "  <thead>\n",
       "    <tr style=\"text-align: right;\">\n",
       "      <th></th>\n",
       "      <th>nb_words_title</th>\n",
       "      <th>nb_words_content</th>\n",
       "      <th>pp_uniq_words</th>\n",
       "      <th>pp_stop_words</th>\n",
       "      <th>pp_uniq_non-stop_words</th>\n",
       "      <th>nb_links</th>\n",
       "      <th>nb_outside_links</th>\n",
       "      <th>nb_images</th>\n",
       "      <th>nb_videos</th>\n",
       "      <th>ave_word_length</th>\n",
       "      <th>...</th>\n",
       "      <th>pp_neg_words</th>\n",
       "      <th>pp_pos_words_in_nonneutral</th>\n",
       "      <th>ave_polar_pos</th>\n",
       "      <th>min_polar_pos</th>\n",
       "      <th>max_polar_pos</th>\n",
       "      <th>ave_polar_neg</th>\n",
       "      <th>min_polar_neg</th>\n",
       "      <th>max_polar_neg</th>\n",
       "      <th>subj_title</th>\n",
       "      <th>polar_title</th>\n",
       "    </tr>\n",
       "  </thead>\n",
       "  <tbody>\n",
       "    <tr>\n",
       "      <th>2000</th>\n",
       "      <td>9</td>\n",
       "      <td>843</td>\n",
       "      <td>0.5358</td>\n",
       "      <td>2.092000e-09</td>\n",
       "      <td>0.7469</td>\n",
       "      <td>15.0</td>\n",
       "      <td>8</td>\n",
       "      <td>11</td>\n",
       "      <td>1</td>\n",
       "      <td>4</td>\n",
       "      <td>...</td>\n",
       "      <td>0.019230</td>\n",
       "      <td>0.7143</td>\n",
       "      <td>0.4437</td>\n",
       "      <td>0.03333</td>\n",
       "      <td>1.0</td>\n",
       "      <td>-0.3160</td>\n",
       "      <td>-0.8000</td>\n",
       "      <td>-0.05</td>\n",
       "      <td>0.0</td>\n",
       "      <td>0.0</td>\n",
       "    </tr>\n",
       "    <tr>\n",
       "      <th>2001</th>\n",
       "      <td>9</td>\n",
       "      <td>805</td>\n",
       "      <td>0.4196</td>\n",
       "      <td>2.165000e-09</td>\n",
       "      <td>0.5693</td>\n",
       "      <td>8.0</td>\n",
       "      <td>7</td>\n",
       "      <td>1</td>\n",
       "      <td>0</td>\n",
       "      <td>4</td>\n",
       "      <td>...</td>\n",
       "      <td>0.025710</td>\n",
       "      <td>0.5349</td>\n",
       "      <td>0.3081</td>\n",
       "      <td>0.05000</td>\n",
       "      <td>0.8</td>\n",
       "      <td>-0.3463</td>\n",
       "      <td>-0.7143</td>\n",
       "      <td>-0.10</td>\n",
       "      <td>0.9</td>\n",
       "      <td>0.3</td>\n",
       "    </tr>\n",
       "    <tr>\n",
       "      <th>2002</th>\n",
       "      <td>8</td>\n",
       "      <td>145</td>\n",
       "      <td>0.7594</td>\n",
       "      <td>1.163000e-08</td>\n",
       "      <td>0.8488</td>\n",
       "      <td>7.0</td>\n",
       "      <td>3</td>\n",
       "      <td>0</td>\n",
       "      <td>2</td>\n",
       "      <td>4</td>\n",
       "      <td>...</td>\n",
       "      <td>0.007519</td>\n",
       "      <td>0.8333</td>\n",
       "      <td>0.3673</td>\n",
       "      <td>0.13640</td>\n",
       "      <td>0.5</td>\n",
       "      <td>-0.2000</td>\n",
       "      <td>-0.2000</td>\n",
       "      <td>-0.20</td>\n",
       "      <td>0.0</td>\n",
       "      <td>0.0</td>\n",
       "    </tr>\n",
       "    <tr>\n",
       "      <th>2003</th>\n",
       "      <td>12</td>\n",
       "      <td>201</td>\n",
       "      <td>0.6359</td>\n",
       "      <td>9.259000e-09</td>\n",
       "      <td>0.8148</td>\n",
       "      <td>7.0</td>\n",
       "      <td>2</td>\n",
       "      <td>0</td>\n",
       "      <td>0</td>\n",
       "      <td>4</td>\n",
       "      <td>...</td>\n",
       "      <td>0.027030</td>\n",
       "      <td>0.7368</td>\n",
       "      <td>0.3721</td>\n",
       "      <td>0.13640</td>\n",
       "      <td>0.6</td>\n",
       "      <td>-0.4000</td>\n",
       "      <td>-0.4000</td>\n",
       "      <td>-0.40</td>\n",
       "      <td>0.0</td>\n",
       "      <td>0.0</td>\n",
       "    </tr>\n",
       "    <tr>\n",
       "      <th>2004</th>\n",
       "      <td>13</td>\n",
       "      <td>673</td>\n",
       "      <td>0.4609</td>\n",
       "      <td>2.500000e-09</td>\n",
       "      <td>0.5950</td>\n",
       "      <td>8.0</td>\n",
       "      <td>7</td>\n",
       "      <td>1</td>\n",
       "      <td>0</td>\n",
       "      <td>4</td>\n",
       "      <td>...</td>\n",
       "      <td>0.021440</td>\n",
       "      <td>0.5625</td>\n",
       "      <td>0.3500</td>\n",
       "      <td>0.05000</td>\n",
       "      <td>0.6</td>\n",
       "      <td>-0.2435</td>\n",
       "      <td>-0.8000</td>\n",
       "      <td>-0.10</td>\n",
       "      <td>0.0</td>\n",
       "      <td>0.0</td>\n",
       "    </tr>\n",
       "  </tbody>\n",
       "</table>\n",
       "<p>5 rows × 43 columns</p>\n",
       "</div>"
      ],
      "text/plain": [
       "      nb_words_title  nb_words_content  pp_uniq_words  pp_stop_words  \\\n",
       "2000               9               843         0.5358   2.092000e-09   \n",
       "2001               9               805         0.4196   2.165000e-09   \n",
       "2002               8               145         0.7594   1.163000e-08   \n",
       "2003              12               201         0.6359   9.259000e-09   \n",
       "2004              13               673         0.4609   2.500000e-09   \n",
       "\n",
       "      pp_uniq_non-stop_words  nb_links  nb_outside_links  nb_images  \\\n",
       "2000                  0.7469      15.0                 8         11   \n",
       "2001                  0.5693       8.0                 7          1   \n",
       "2002                  0.8488       7.0                 3          0   \n",
       "2003                  0.8148       7.0                 2          0   \n",
       "2004                  0.5950       8.0                 7          1   \n",
       "\n",
       "      nb_videos  ave_word_length  ...  pp_neg_words  \\\n",
       "2000          1                4  ...      0.019230   \n",
       "2001          0                4  ...      0.025710   \n",
       "2002          2                4  ...      0.007519   \n",
       "2003          0                4  ...      0.027030   \n",
       "2004          0                4  ...      0.021440   \n",
       "\n",
       "      pp_pos_words_in_nonneutral  ave_polar_pos  min_polar_pos  max_polar_pos  \\\n",
       "2000                      0.7143         0.4437        0.03333            1.0   \n",
       "2001                      0.5349         0.3081        0.05000            0.8   \n",
       "2002                      0.8333         0.3673        0.13640            0.5   \n",
       "2003                      0.7368         0.3721        0.13640            0.6   \n",
       "2004                      0.5625         0.3500        0.05000            0.6   \n",
       "\n",
       "      ave_polar_neg  min_polar_neg  max_polar_neg  subj_title  polar_title  \n",
       "2000        -0.3160        -0.8000          -0.05         0.0          0.0  \n",
       "2001        -0.3463        -0.7143          -0.10         0.9          0.3  \n",
       "2002        -0.2000        -0.2000          -0.20         0.0          0.0  \n",
       "2003        -0.4000        -0.4000          -0.40         0.0          0.0  \n",
       "2004        -0.2435        -0.8000          -0.10         0.0          0.0  \n",
       "\n",
       "[5 rows x 43 columns]"
      ]
     },
     "execution_count": 6,
     "metadata": {},
     "output_type": "execute_result"
    }
   ],
   "source": [
    "list_feature_names = list(feature_data['feature_names'])\n",
    "\n",
    "train_data = pd.read_csv('data/train.csv', header=None, sep=\" \", names=list_feature_names)\n",
    "train_data.head(5)"
   ]
  },
  {
   "cell_type": "markdown",
   "metadata": {},
   "source": [
    "** Here we load the testing data **"
   ]
  },
  {
   "cell_type": "code",
   "execution_count": 7,
   "metadata": {
    "editable": true
   },
   "outputs": [
    {
     "data": {
      "text/html": [
       "<div>\n",
       "<style scoped>\n",
       "    .dataframe tbody tr th:only-of-type {\n",
       "        vertical-align: middle;\n",
       "    }\n",
       "\n",
       "    .dataframe tbody tr th {\n",
       "        vertical-align: top;\n",
       "    }\n",
       "\n",
       "    .dataframe thead th {\n",
       "        text-align: right;\n",
       "    }\n",
       "</style>\n",
       "<table border=\"1\" class=\"dataframe\">\n",
       "  <thead>\n",
       "    <tr style=\"text-align: right;\">\n",
       "      <th></th>\n",
       "      <th>nb_words_title</th>\n",
       "      <th>nb_words_content</th>\n",
       "      <th>pp_uniq_words</th>\n",
       "      <th>pp_stop_words</th>\n",
       "      <th>pp_uniq_non-stop_words</th>\n",
       "      <th>nb_links</th>\n",
       "      <th>nb_outside_links</th>\n",
       "      <th>nb_images</th>\n",
       "      <th>nb_videos</th>\n",
       "      <th>ave_word_length</th>\n",
       "      <th>...</th>\n",
       "      <th>pp_neg_words</th>\n",
       "      <th>pp_pos_words_in_nonneutral</th>\n",
       "      <th>ave_polar_pos</th>\n",
       "      <th>min_polar_pos</th>\n",
       "      <th>max_polar_pos</th>\n",
       "      <th>ave_polar_neg</th>\n",
       "      <th>min_polar_neg</th>\n",
       "      <th>max_polar_neg</th>\n",
       "      <th>subj_title</th>\n",
       "      <th>polar_title</th>\n",
       "    </tr>\n",
       "  </thead>\n",
       "  <tbody>\n",
       "    <tr>\n",
       "      <th>0</th>\n",
       "      <td>12</td>\n",
       "      <td>258</td>\n",
       "      <td>0.5745</td>\n",
       "      <td>6.897000e-09</td>\n",
       "      <td>0.6897</td>\n",
       "      <td>4.0</td>\n",
       "      <td>2</td>\n",
       "      <td>0</td>\n",
       "      <td>0</td>\n",
       "      <td>4</td>\n",
       "      <td>...</td>\n",
       "      <td>0.01653</td>\n",
       "      <td>0.7143</td>\n",
       "      <td>0.2967</td>\n",
       "      <td>0.10000</td>\n",
       "      <td>1.0</td>\n",
       "      <td>-0.2344</td>\n",
       "      <td>-0.3</td>\n",
       "      <td>-0.1875</td>\n",
       "      <td>0.125</td>\n",
       "      <td>0.0</td>\n",
       "    </tr>\n",
       "    <tr>\n",
       "      <th>1</th>\n",
       "      <td>8</td>\n",
       "      <td>11</td>\n",
       "      <td>0.0000</td>\n",
       "      <td>1.000000e+00</td>\n",
       "      <td>0.0000</td>\n",
       "      <td>0.0</td>\n",
       "      <td>0</td>\n",
       "      <td>0</td>\n",
       "      <td>0</td>\n",
       "      <td>0</td>\n",
       "      <td>...</td>\n",
       "      <td>0.00000</td>\n",
       "      <td>0.0000</td>\n",
       "      <td>0.0000</td>\n",
       "      <td>0.00000</td>\n",
       "      <td>0.0</td>\n",
       "      <td>0.0000</td>\n",
       "      <td>0.0</td>\n",
       "      <td>0.0000</td>\n",
       "      <td>0.525</td>\n",
       "      <td>0.3</td>\n",
       "    </tr>\n",
       "    <tr>\n",
       "      <th>2</th>\n",
       "      <td>10</td>\n",
       "      <td>263</td>\n",
       "      <td>0.7249</td>\n",
       "      <td>6.623000e-09</td>\n",
       "      <td>0.8543</td>\n",
       "      <td>6.0</td>\n",
       "      <td>3</td>\n",
       "      <td>2</td>\n",
       "      <td>0</td>\n",
       "      <td>5</td>\n",
       "      <td>...</td>\n",
       "      <td>0.04701</td>\n",
       "      <td>0.5000</td>\n",
       "      <td>0.2617</td>\n",
       "      <td>0.10000</td>\n",
       "      <td>1.0</td>\n",
       "      <td>-0.2170</td>\n",
       "      <td>-0.5</td>\n",
       "      <td>-0.1250</td>\n",
       "      <td>0.000</td>\n",
       "      <td>-0.2</td>\n",
       "    </tr>\n",
       "    <tr>\n",
       "      <th>3</th>\n",
       "      <td>13</td>\n",
       "      <td>1281</td>\n",
       "      <td>0.4067</td>\n",
       "      <td>1.422000e-09</td>\n",
       "      <td>0.5903</td>\n",
       "      <td>29.0</td>\n",
       "      <td>4</td>\n",
       "      <td>1</td>\n",
       "      <td>1</td>\n",
       "      <td>4</td>\n",
       "      <td>...</td>\n",
       "      <td>0.01512</td>\n",
       "      <td>0.7500</td>\n",
       "      <td>0.3585</td>\n",
       "      <td>0.03333</td>\n",
       "      <td>1.0</td>\n",
       "      <td>-0.2403</td>\n",
       "      <td>-0.5</td>\n",
       "      <td>-0.0500</td>\n",
       "      <td>0.000</td>\n",
       "      <td>0.0</td>\n",
       "    </tr>\n",
       "    <tr>\n",
       "      <th>4</th>\n",
       "      <td>9</td>\n",
       "      <td>107</td>\n",
       "      <td>0.8152</td>\n",
       "      <td>1.538000e-08</td>\n",
       "      <td>0.8154</td>\n",
       "      <td>5.0</td>\n",
       "      <td>2</td>\n",
       "      <td>0</td>\n",
       "      <td>0</td>\n",
       "      <td>4</td>\n",
       "      <td>...</td>\n",
       "      <td>0.02151</td>\n",
       "      <td>0.6667</td>\n",
       "      <td>0.4881</td>\n",
       "      <td>0.28570</td>\n",
       "      <td>1.0</td>\n",
       "      <td>-0.8000</td>\n",
       "      <td>-1.0</td>\n",
       "      <td>-0.6000</td>\n",
       "      <td>0.000</td>\n",
       "      <td>0.0</td>\n",
       "    </tr>\n",
       "  </tbody>\n",
       "</table>\n",
       "<p>5 rows × 43 columns</p>\n",
       "</div>"
      ],
      "text/plain": [
       "   nb_words_title  nb_words_content  pp_uniq_words  pp_stop_words  \\\n",
       "0              12               258         0.5745   6.897000e-09   \n",
       "1               8                11         0.0000   1.000000e+00   \n",
       "2              10               263         0.7249   6.623000e-09   \n",
       "3              13              1281         0.4067   1.422000e-09   \n",
       "4               9               107         0.8152   1.538000e-08   \n",
       "\n",
       "   pp_uniq_non-stop_words  nb_links  nb_outside_links  nb_images  nb_videos  \\\n",
       "0                  0.6897       4.0                 2          0          0   \n",
       "1                  0.0000       0.0                 0          0          0   \n",
       "2                  0.8543       6.0                 3          2          0   \n",
       "3                  0.5903      29.0                 4          1          1   \n",
       "4                  0.8154       5.0                 2          0          0   \n",
       "\n",
       "   ave_word_length  ...  pp_neg_words  pp_pos_words_in_nonneutral  \\\n",
       "0                4  ...       0.01653                      0.7143   \n",
       "1                0  ...       0.00000                      0.0000   \n",
       "2                5  ...       0.04701                      0.5000   \n",
       "3                4  ...       0.01512                      0.7500   \n",
       "4                4  ...       0.02151                      0.6667   \n",
       "\n",
       "   ave_polar_pos  min_polar_pos  max_polar_pos  ave_polar_neg  min_polar_neg  \\\n",
       "0         0.2967        0.10000            1.0        -0.2344           -0.3   \n",
       "1         0.0000        0.00000            0.0         0.0000            0.0   \n",
       "2         0.2617        0.10000            1.0        -0.2170           -0.5   \n",
       "3         0.3585        0.03333            1.0        -0.2403           -0.5   \n",
       "4         0.4881        0.28570            1.0        -0.8000           -1.0   \n",
       "\n",
       "   max_polar_neg  subj_title  polar_title  \n",
       "0        -0.1875       0.125          0.0  \n",
       "1         0.0000       0.525          0.3  \n",
       "2        -0.1250       0.000         -0.2  \n",
       "3        -0.0500       0.000          0.0  \n",
       "4        -0.6000       0.000          0.0  \n",
       "\n",
       "[5 rows x 43 columns]"
      ]
     },
     "execution_count": 7,
     "metadata": {},
     "output_type": "execute_result"
    }
   ],
   "source": [
    "test_data = pd.read_csv('data/test.csv', header=None, sep=\" \", names=list_feature_names)\n",
    "test_data.head(5)"
   ]
  },
  {
   "cell_type": "markdown",
   "metadata": {},
   "source": [
    "Let's explore a bit how the fetures describe the overall informations. "
   ]
  },
  {
   "cell_type": "code",
   "execution_count": 8,
   "metadata": {},
   "outputs": [
    {
     "data": {
      "text/html": [
       "<div>\n",
       "<style scoped>\n",
       "    .dataframe tbody tr th:only-of-type {\n",
       "        vertical-align: middle;\n",
       "    }\n",
       "\n",
       "    .dataframe tbody tr th {\n",
       "        vertical-align: top;\n",
       "    }\n",
       "\n",
       "    .dataframe thead th {\n",
       "        text-align: right;\n",
       "    }\n",
       "</style>\n",
       "<table border=\"1\" class=\"dataframe\">\n",
       "  <thead>\n",
       "    <tr style=\"text-align: right;\">\n",
       "      <th></th>\n",
       "      <th>nb_words_title</th>\n",
       "      <th>nb_words_content</th>\n",
       "      <th>pp_uniq_words</th>\n",
       "      <th>pp_stop_words</th>\n",
       "      <th>pp_uniq_non-stop_words</th>\n",
       "      <th>nb_links</th>\n",
       "      <th>nb_outside_links</th>\n",
       "      <th>nb_images</th>\n",
       "      <th>nb_videos</th>\n",
       "      <th>ave_word_length</th>\n",
       "      <th>...</th>\n",
       "      <th>pp_neg_words</th>\n",
       "      <th>pp_pos_words_in_nonneutral</th>\n",
       "      <th>ave_polar_pos</th>\n",
       "      <th>min_polar_pos</th>\n",
       "      <th>max_polar_pos</th>\n",
       "      <th>ave_polar_neg</th>\n",
       "      <th>min_polar_neg</th>\n",
       "      <th>max_polar_neg</th>\n",
       "      <th>subj_title</th>\n",
       "      <th>polar_title</th>\n",
       "    </tr>\n",
       "  </thead>\n",
       "  <tbody>\n",
       "    <tr>\n",
       "      <th>count</th>\n",
       "      <td>5000.000000</td>\n",
       "      <td>5000.000000</td>\n",
       "      <td>5000.000000</td>\n",
       "      <td>5.000000e+03</td>\n",
       "      <td>5000.000000</td>\n",
       "      <td>5000.000000</td>\n",
       "      <td>5000.00000</td>\n",
       "      <td>5000.00000</td>\n",
       "      <td>5000.000000</td>\n",
       "      <td>5000.000000</td>\n",
       "      <td>...</td>\n",
       "      <td>5000.000000</td>\n",
       "      <td>5000.000000</td>\n",
       "      <td>5000.000000</td>\n",
       "      <td>5000.000000</td>\n",
       "      <td>5000.000000</td>\n",
       "      <td>5000.000000</td>\n",
       "      <td>5000.000000</td>\n",
       "      <td>5000.000000</td>\n",
       "      <td>5000.000000</td>\n",
       "      <td>5000.000000</td>\n",
       "    </tr>\n",
       "    <tr>\n",
       "      <th>mean</th>\n",
       "      <td>10.380000</td>\n",
       "      <td>562.619200</td>\n",
       "      <td>0.530260</td>\n",
       "      <td>3.020000e-02</td>\n",
       "      <td>0.672933</td>\n",
       "      <td>10.709400</td>\n",
       "      <td>7.42240</td>\n",
       "      <td>4.36960</td>\n",
       "      <td>1.234200</td>\n",
       "      <td>3.999000</td>\n",
       "      <td>...</td>\n",
       "      <td>0.016501</td>\n",
       "      <td>0.684178</td>\n",
       "      <td>0.354043</td>\n",
       "      <td>0.093984</td>\n",
       "      <td>0.757282</td>\n",
       "      <td>-0.254947</td>\n",
       "      <td>-0.514777</td>\n",
       "      <td>-0.104303</td>\n",
       "      <td>0.288572</td>\n",
       "      <td>0.071929</td>\n",
       "    </tr>\n",
       "    <tr>\n",
       "      <th>std</th>\n",
       "      <td>2.104777</td>\n",
       "      <td>465.785259</td>\n",
       "      <td>0.136349</td>\n",
       "      <td>1.711544e-01</td>\n",
       "      <td>0.152879</td>\n",
       "      <td>10.700498</td>\n",
       "      <td>9.79755</td>\n",
       "      <td>7.95729</td>\n",
       "      <td>3.952781</td>\n",
       "      <td>0.785062</td>\n",
       "      <td>...</td>\n",
       "      <td>0.010663</td>\n",
       "      <td>0.190982</td>\n",
       "      <td>0.104455</td>\n",
       "      <td>0.071783</td>\n",
       "      <td>0.246997</td>\n",
       "      <td>0.124528</td>\n",
       "      <td>0.290311</td>\n",
       "      <td>0.089427</td>\n",
       "      <td>0.323541</td>\n",
       "      <td>0.260094</td>\n",
       "    </tr>\n",
       "    <tr>\n",
       "      <th>min</th>\n",
       "      <td>4.000000</td>\n",
       "      <td>0.000000</td>\n",
       "      <td>0.000000</td>\n",
       "      <td>2.430000e-10</td>\n",
       "      <td>0.000000</td>\n",
       "      <td>0.000000</td>\n",
       "      <td>0.00000</td>\n",
       "      <td>0.00000</td>\n",
       "      <td>0.000000</td>\n",
       "      <td>0.000000</td>\n",
       "      <td>...</td>\n",
       "      <td>0.000000</td>\n",
       "      <td>0.000000</td>\n",
       "      <td>0.000000</td>\n",
       "      <td>0.000000</td>\n",
       "      <td>0.000000</td>\n",
       "      <td>-1.000000</td>\n",
       "      <td>-1.000000</td>\n",
       "      <td>-1.000000</td>\n",
       "      <td>0.000000</td>\n",
       "      <td>-1.000000</td>\n",
       "    </tr>\n",
       "    <tr>\n",
       "      <th>25%</th>\n",
       "      <td>9.000000</td>\n",
       "      <td>265.000000</td>\n",
       "      <td>0.472275</td>\n",
       "      <td>2.379500e-09</td>\n",
       "      <td>0.627575</td>\n",
       "      <td>4.000000</td>\n",
       "      <td>1.00000</td>\n",
       "      <td>1.00000</td>\n",
       "      <td>0.000000</td>\n",
       "      <td>4.000000</td>\n",
       "      <td>...</td>\n",
       "      <td>0.009615</td>\n",
       "      <td>0.600000</td>\n",
       "      <td>0.307700</td>\n",
       "      <td>0.050000</td>\n",
       "      <td>0.600000</td>\n",
       "      <td>-0.324525</td>\n",
       "      <td>-0.700000</td>\n",
       "      <td>-0.125000</td>\n",
       "      <td>0.000000</td>\n",
       "      <td>0.000000</td>\n",
       "    </tr>\n",
       "    <tr>\n",
       "      <th>50%</th>\n",
       "      <td>10.000000</td>\n",
       "      <td>427.000000</td>\n",
       "      <td>0.539700</td>\n",
       "      <td>4.082000e-09</td>\n",
       "      <td>0.691700</td>\n",
       "      <td>7.000000</td>\n",
       "      <td>4.00000</td>\n",
       "      <td>1.00000</td>\n",
       "      <td>0.000000</td>\n",
       "      <td>4.000000</td>\n",
       "      <td>...</td>\n",
       "      <td>0.015115</td>\n",
       "      <td>0.714300</td>\n",
       "      <td>0.359000</td>\n",
       "      <td>0.100000</td>\n",
       "      <td>0.800000</td>\n",
       "      <td>-0.250100</td>\n",
       "      <td>-0.500000</td>\n",
       "      <td>-0.100000</td>\n",
       "      <td>0.200000</td>\n",
       "      <td>0.000000</td>\n",
       "    </tr>\n",
       "    <tr>\n",
       "      <th>75%</th>\n",
       "      <td>12.000000</td>\n",
       "      <td>724.250000</td>\n",
       "      <td>0.606725</td>\n",
       "      <td>6.667000e-09</td>\n",
       "      <td>0.754275</td>\n",
       "      <td>14.000000</td>\n",
       "      <td>10.00000</td>\n",
       "      <td>3.00000</td>\n",
       "      <td>1.000000</td>\n",
       "      <td>4.000000</td>\n",
       "      <td>...</td>\n",
       "      <td>0.021780</td>\n",
       "      <td>0.800000</td>\n",
       "      <td>0.411800</td>\n",
       "      <td>0.100000</td>\n",
       "      <td>1.000000</td>\n",
       "      <td>-0.182400</td>\n",
       "      <td>-0.300000</td>\n",
       "      <td>-0.050000</td>\n",
       "      <td>0.500000</td>\n",
       "      <td>0.160500</td>\n",
       "    </tr>\n",
       "    <tr>\n",
       "      <th>max</th>\n",
       "      <td>19.000000</td>\n",
       "      <td>7775.000000</td>\n",
       "      <td>1.000000</td>\n",
       "      <td>1.000000e+00</td>\n",
       "      <td>1.000000</td>\n",
       "      <td>162.000000</td>\n",
       "      <td>159.00000</td>\n",
       "      <td>128.00000</td>\n",
       "      <td>75.000000</td>\n",
       "      <td>7.000000</td>\n",
       "      <td>...</td>\n",
       "      <td>0.091040</td>\n",
       "      <td>1.000000</td>\n",
       "      <td>0.950000</td>\n",
       "      <td>0.900000</td>\n",
       "      <td>1.000000</td>\n",
       "      <td>0.000000</td>\n",
       "      <td>0.000000</td>\n",
       "      <td>0.000000</td>\n",
       "      <td>1.000000</td>\n",
       "      <td>1.000000</td>\n",
       "    </tr>\n",
       "  </tbody>\n",
       "</table>\n",
       "<p>8 rows × 43 columns</p>\n",
       "</div>"
      ],
      "text/plain": [
       "       nb_words_title  nb_words_content  pp_uniq_words  pp_stop_words  \\\n",
       "count     5000.000000       5000.000000    5000.000000   5.000000e+03   \n",
       "mean        10.380000        562.619200       0.530260   3.020000e-02   \n",
       "std          2.104777        465.785259       0.136349   1.711544e-01   \n",
       "min          4.000000          0.000000       0.000000   2.430000e-10   \n",
       "25%          9.000000        265.000000       0.472275   2.379500e-09   \n",
       "50%         10.000000        427.000000       0.539700   4.082000e-09   \n",
       "75%         12.000000        724.250000       0.606725   6.667000e-09   \n",
       "max         19.000000       7775.000000       1.000000   1.000000e+00   \n",
       "\n",
       "       pp_uniq_non-stop_words     nb_links  nb_outside_links   nb_images  \\\n",
       "count             5000.000000  5000.000000        5000.00000  5000.00000   \n",
       "mean                 0.672933    10.709400           7.42240     4.36960   \n",
       "std                  0.152879    10.700498           9.79755     7.95729   \n",
       "min                  0.000000     0.000000           0.00000     0.00000   \n",
       "25%                  0.627575     4.000000           1.00000     1.00000   \n",
       "50%                  0.691700     7.000000           4.00000     1.00000   \n",
       "75%                  0.754275    14.000000          10.00000     3.00000   \n",
       "max                  1.000000   162.000000         159.00000   128.00000   \n",
       "\n",
       "         nb_videos  ave_word_length  ...  pp_neg_words  \\\n",
       "count  5000.000000      5000.000000  ...   5000.000000   \n",
       "mean      1.234200         3.999000  ...      0.016501   \n",
       "std       3.952781         0.785062  ...      0.010663   \n",
       "min       0.000000         0.000000  ...      0.000000   \n",
       "25%       0.000000         4.000000  ...      0.009615   \n",
       "50%       0.000000         4.000000  ...      0.015115   \n",
       "75%       1.000000         4.000000  ...      0.021780   \n",
       "max      75.000000         7.000000  ...      0.091040   \n",
       "\n",
       "       pp_pos_words_in_nonneutral  ave_polar_pos  min_polar_pos  \\\n",
       "count                 5000.000000    5000.000000    5000.000000   \n",
       "mean                     0.684178       0.354043       0.093984   \n",
       "std                      0.190982       0.104455       0.071783   \n",
       "min                      0.000000       0.000000       0.000000   \n",
       "25%                      0.600000       0.307700       0.050000   \n",
       "50%                      0.714300       0.359000       0.100000   \n",
       "75%                      0.800000       0.411800       0.100000   \n",
       "max                      1.000000       0.950000       0.900000   \n",
       "\n",
       "       max_polar_pos  ave_polar_neg  min_polar_neg  max_polar_neg  \\\n",
       "count    5000.000000    5000.000000    5000.000000    5000.000000   \n",
       "mean        0.757282      -0.254947      -0.514777      -0.104303   \n",
       "std         0.246997       0.124528       0.290311       0.089427   \n",
       "min         0.000000      -1.000000      -1.000000      -1.000000   \n",
       "25%         0.600000      -0.324525      -0.700000      -0.125000   \n",
       "50%         0.800000      -0.250100      -0.500000      -0.100000   \n",
       "75%         1.000000      -0.182400      -0.300000      -0.050000   \n",
       "max         1.000000       0.000000       0.000000       0.000000   \n",
       "\n",
       "        subj_title  polar_title  \n",
       "count  5000.000000  5000.000000  \n",
       "mean      0.288572     0.071929  \n",
       "std       0.323541     0.260094  \n",
       "min       0.000000    -1.000000  \n",
       "25%       0.000000     0.000000  \n",
       "50%       0.200000     0.000000  \n",
       "75%       0.500000     0.160500  \n",
       "max       1.000000     1.000000  \n",
       "\n",
       "[8 rows x 43 columns]"
      ]
     },
     "execution_count": 8,
     "metadata": {},
     "output_type": "execute_result"
    }
   ],
   "source": [
    "train_data.describe()"
   ]
  },
  {
   "cell_type": "markdown",
   "metadata": {},
   "source": [
    "By doing this we can see that their is no missing informations, all the features have a count of 5000, but more importantly their is really important features such nb_words_content that describe a big variance (i.e hold a lot of informations) in comparison of the other features but it mean value it's also higher than the other. Hence we will need to standarized the values to avoid that this features bias the results since it will have a much higher weight. "
   ]
  },
  {
   "cell_type": "markdown",
   "metadata": {
    "editable": true
   },
   "source": [
    "But before applying any transformation to the data. Let's explore the features and try to check if all of them are pertinent, the goal it's to remove the features we don't need and reduce the data dimensionality. This will give us better results and make the computation easier."
   ]
  },
  {
   "cell_type": "markdown",
   "metadata": {},
   "source": [
    "Some of the features we can remove are the correlated ones that have the lesser variance. for exemple if two features are correlated or nearly correlated which is more accurate here, we can remove one them since they are holding the same value. And to determine which one we can remove, we will compare their variance (i.e the informations they hold) and remove the one that have the lower one.\n"
   ]
  },
  {
   "cell_type": "markdown",
   "metadata": {},
   "source": [
    "Let's start by computing the correlation matrix of the features"
   ]
  },
  {
   "cell_type": "code",
   "execution_count": 9,
   "metadata": {
    "editable": true
   },
   "outputs": [
    {
     "data": {
      "image/png": "[encoded data removed]",
      "text/plain": [
       "<Figure size 432x288 with 2 Axes>"
      ]
     },
     "metadata": {
      "needs_background": "light"
     },
     "output_type": "display_data"
    }
   ],
   "source": [
    "corrMatrix = train_data.corr()\n",
    "sn.heatmap(corrMatrix, xticklabels=False, yticklabels=False)\n",
    "plt.show()"
   ]
  },
  {
   "cell_type": "markdown",
   "metadata": {},
   "source": [
    "The heatmap above illustrate the correlation between the feature. the brightest values (over >0.8) or the darkest (<-0.8) express the most correlated features. the diagonal hold only 1 values since each feature is fully correlated to itself.  "
   ]
  },
  {
   "cell_type": "markdown",
   "metadata": {},
   "source": [
    "Now let's determine the most correlated features and compare their standard deviation. We will assume that the most correlated features have a absolute value higher than 0.8 "
   ]
  },
  {
   "cell_type": "code",
   "execution_count": 10,
   "metadata": {},
   "outputs": [
    {
     "name": "stdout",
     "output_type": "stream",
     "text": [
      "       feature_1               feature_2  correlation_value  std_feature_1  \\\n",
      "0  pp_uniq_words  pp_uniq_non-stop_words           0.937697       0.136335   \n",
      "1  pp_stop_words         ave_word_length          -0.898987       0.171137   \n",
      "2       nb_links        nb_outside_links           0.939545      10.699428   \n",
      "3   nb_mina_mink            nb_maxa_maxk          -0.860841      70.701093   \n",
      "4   nb_mina_maxk            nb_mina_avek           0.949055    2515.322786   \n",
      "5   nb_avea_maxk            nb_avea_avek           0.801864    4762.028495   \n",
      "6  nb_max_linked           nb_ave_linked           0.884761   34293.993901   \n",
      "\n",
      "   std_feature_2  \n",
      "0       0.152864  \n",
      "1       0.784983  \n",
      "2       9.796570  \n",
      "3  218895.020798  \n",
      "4     426.475670  \n",
      "5    1224.891423  \n",
      "6   21193.796884  \n"
     ]
    }
   ],
   "source": [
    "# return the indexes of the features that are highly correlated \n",
    "I,J=np.where((abs(corrMatrix) > 0.8) & (corrMatrix!=1))\n",
    "\n",
    "#remove the dupplicate\n",
    "for idx_I, elem_I in enumerate(I):\n",
    "    idx_J = np.where(J == elem_I)\n",
    "    idx_J = idx_J[0][0]\n",
    "    if(I[idx_J]==J[idx_I]):\n",
    "        J[idx_J]=0\n",
    "        I[idx_J]=0\n",
    "I=I[I!=0]\n",
    "J=J[J!=0]\n",
    "\n",
    "# get their names\n",
    "I_features_name=train_data.columns.values[I]\n",
    "J_features_name=train_data.columns.values[J]\n",
    "\n",
    "std_feature_I=[]\n",
    "std_feature_J=[]\n",
    "correlation_list=[]\n",
    "\n",
    "#compute their variance\n",
    "for idx, elem in enumerate(I_features_name):\n",
    "    correlation_list.append(corrMatrix.iloc[I[idx],J[idx]])\n",
    "    std_feature_I.append(np.std(train_data[elem]))\n",
    "    std_feature_J.append(np.std(train_data[J_features_name[idx]]))\n",
    "    \n",
    "#store them in a dictionary    \n",
    "data_correlation = {'feature_1': I_features_name,\n",
    "        'feature_2': J_features_name,\n",
    "        'correlation_value': correlation_list,\n",
    "        'std_feature_1': std_feature_I,\n",
    "        'std_feature_2': std_feature_J}\n",
    "#store them in a dataframe for the sake of the visualisation \n",
    "features_correlated_compar = pd.DataFrame(data_correlation, columns = ['feature_1','feature_2', 'correlation_value','std_feature_1', 'std_feature_2'])\n",
    " \n",
    "print(features_correlated_compar)"
   ]
  },
  {
   "cell_type": "markdown",
   "metadata": {},
   "source": [
    "from the informations above we can determine the 6 features we can remove:\n",
    "<b>pp_uniq_words, pp_stop_words, nb_outside_links, nb_mina_mink, nb_mina_avek, nb_avea_avek, nb_ave_linked</b>"
   ]
  },
  {
   "cell_type": "code",
   "execution_count": 11,
   "metadata": {},
   "outputs": [],
   "source": [
    "train_data=train_data.drop(['pp_uniq_words', 'pp_stop_words', 'nb_outside_links', 'nb_mina_mink', 'nb_mina_avek', 'nb_avea_avek', 'nb_ave_linked'], axis = 1)"
   ]
  },
  {
   "cell_type": "markdown",
   "metadata": {},
   "source": [
    "Let's continue the transformation of our features. We will work on our categorical features such as <b><i>weekday</i></b> and <b><i>category</i></b>. "
   ]
  },
  {
   "cell_type": "markdown",
   "metadata": {},
   "source": [
    "Let's visualize first our weekday feature histogram"
   ]
  },
  {
   "cell_type": "code",
   "execution_count": 14,
   "metadata": {},
   "outputs": [
    {
     "data": {
      "image/png": "[encoded data removed]",
      "text/plain": [
       "<Figure size 432x288 with 1 Axes>"
      ]
     },
     "metadata": {
      "needs_background": "light"
     },
     "output_type": "display_data"
    }
   ],
   "source": [
    "train_data.get([\"weekday\"]).plot.hist(grid=True, bins=20, rwidth=0.9,\n",
    "                   color='#607c8e')\n",
    "plt.title('weekday histogram')\n",
    "plt.xlabel('Counts')\n",
    "plt.ylabel('Commute Time')\n",
    "plt.grid(axis='y', alpha=0.75)"
   ]
  },
  {
   "cell_type": "markdown",
   "metadata": {},
   "source": [
    "Here for exemple we can clearly see that during weekend there is less publications than during the week. We can for exemple binarize this features between 'working days' and holidays. But here we will try to get more precision by encoding our weekdays into categorical data. Unfortunatly their will be a downside to this: increasing the dimensionality of the data."
   ]
  },
  {
   "cell_type": "code",
   "execution_count": 15,
   "metadata": {},
   "outputs": [
    {
     "data": {
      "text/html": [
       "<div>\n",
       "<style scoped>\n",
       "    .dataframe tbody tr th:only-of-type {\n",
       "        vertical-align: middle;\n",
       "    }\n",
       "\n",
       "    .dataframe tbody tr th {\n",
       "        vertical-align: top;\n",
       "    }\n",
       "\n",
       "    .dataframe thead th {\n",
       "        text-align: right;\n",
       "    }\n",
       "</style>\n",
       "<table border=\"1\" class=\"dataframe\">\n",
       "  <thead>\n",
       "    <tr style=\"text-align: right;\">\n",
       "      <th></th>\n",
       "      <th>weekday_1</th>\n",
       "      <th>weekday_2</th>\n",
       "      <th>weekday_3</th>\n",
       "      <th>weekday_4</th>\n",
       "      <th>weekday_5</th>\n",
       "      <th>weekday_6</th>\n",
       "      <th>nb_words_title</th>\n",
       "      <th>nb_words_content</th>\n",
       "      <th>pp_uniq_non-stop_words</th>\n",
       "      <th>nb_links</th>\n",
       "      <th>...</th>\n",
       "      <th>pp_neg_words</th>\n",
       "      <th>pp_pos_words_in_nonneutral</th>\n",
       "      <th>ave_polar_pos</th>\n",
       "      <th>min_polar_pos</th>\n",
       "      <th>max_polar_pos</th>\n",
       "      <th>ave_polar_neg</th>\n",
       "      <th>min_polar_neg</th>\n",
       "      <th>max_polar_neg</th>\n",
       "      <th>subj_title</th>\n",
       "      <th>polar_title</th>\n",
       "    </tr>\n",
       "  </thead>\n",
       "  <tbody>\n",
       "    <tr>\n",
       "      <th>2000</th>\n",
       "      <td>1</td>\n",
       "      <td>0</td>\n",
       "      <td>0</td>\n",
       "      <td>0</td>\n",
       "      <td>0</td>\n",
       "      <td>0</td>\n",
       "      <td>9</td>\n",
       "      <td>843</td>\n",
       "      <td>0.7469</td>\n",
       "      <td>15.0</td>\n",
       "      <td>...</td>\n",
       "      <td>0.019230</td>\n",
       "      <td>0.7143</td>\n",
       "      <td>0.4437</td>\n",
       "      <td>0.03333</td>\n",
       "      <td>1.0</td>\n",
       "      <td>-0.3160</td>\n",
       "      <td>-0.8000</td>\n",
       "      <td>-0.05</td>\n",
       "      <td>0.0</td>\n",
       "      <td>0.0</td>\n",
       "    </tr>\n",
       "    <tr>\n",
       "      <th>2001</th>\n",
       "      <td>0</td>\n",
       "      <td>1</td>\n",
       "      <td>0</td>\n",
       "      <td>0</td>\n",
       "      <td>0</td>\n",
       "      <td>0</td>\n",
       "      <td>9</td>\n",
       "      <td>805</td>\n",
       "      <td>0.5693</td>\n",
       "      <td>8.0</td>\n",
       "      <td>...</td>\n",
       "      <td>0.025710</td>\n",
       "      <td>0.5349</td>\n",
       "      <td>0.3081</td>\n",
       "      <td>0.05000</td>\n",
       "      <td>0.8</td>\n",
       "      <td>-0.3463</td>\n",
       "      <td>-0.7143</td>\n",
       "      <td>-0.10</td>\n",
       "      <td>0.9</td>\n",
       "      <td>0.3</td>\n",
       "    </tr>\n",
       "    <tr>\n",
       "      <th>2002</th>\n",
       "      <td>0</td>\n",
       "      <td>0</td>\n",
       "      <td>0</td>\n",
       "      <td>0</td>\n",
       "      <td>0</td>\n",
       "      <td>0</td>\n",
       "      <td>8</td>\n",
       "      <td>145</td>\n",
       "      <td>0.8488</td>\n",
       "      <td>7.0</td>\n",
       "      <td>...</td>\n",
       "      <td>0.007519</td>\n",
       "      <td>0.8333</td>\n",
       "      <td>0.3673</td>\n",
       "      <td>0.13640</td>\n",
       "      <td>0.5</td>\n",
       "      <td>-0.2000</td>\n",
       "      <td>-0.2000</td>\n",
       "      <td>-0.20</td>\n",
       "      <td>0.0</td>\n",
       "      <td>0.0</td>\n",
       "    </tr>\n",
       "    <tr>\n",
       "      <th>2003</th>\n",
       "      <td>0</td>\n",
       "      <td>1</td>\n",
       "      <td>0</td>\n",
       "      <td>0</td>\n",
       "      <td>0</td>\n",
       "      <td>0</td>\n",
       "      <td>12</td>\n",
       "      <td>201</td>\n",
       "      <td>0.8148</td>\n",
       "      <td>7.0</td>\n",
       "      <td>...</td>\n",
       "      <td>0.027030</td>\n",
       "      <td>0.7368</td>\n",
       "      <td>0.3721</td>\n",
       "      <td>0.13640</td>\n",
       "      <td>0.6</td>\n",
       "      <td>-0.4000</td>\n",
       "      <td>-0.4000</td>\n",
       "      <td>-0.40</td>\n",
       "      <td>0.0</td>\n",
       "      <td>0.0</td>\n",
       "    </tr>\n",
       "    <tr>\n",
       "      <th>2004</th>\n",
       "      <td>0</td>\n",
       "      <td>1</td>\n",
       "      <td>0</td>\n",
       "      <td>0</td>\n",
       "      <td>0</td>\n",
       "      <td>0</td>\n",
       "      <td>13</td>\n",
       "      <td>673</td>\n",
       "      <td>0.5950</td>\n",
       "      <td>8.0</td>\n",
       "      <td>...</td>\n",
       "      <td>0.021440</td>\n",
       "      <td>0.5625</td>\n",
       "      <td>0.3500</td>\n",
       "      <td>0.05000</td>\n",
       "      <td>0.6</td>\n",
       "      <td>-0.2435</td>\n",
       "      <td>-0.8000</td>\n",
       "      <td>-0.10</td>\n",
       "      <td>0.0</td>\n",
       "      <td>0.0</td>\n",
       "    </tr>\n",
       "  </tbody>\n",
       "</table>\n",
       "<p>5 rows × 41 columns</p>\n",
       "</div>"
      ],
      "text/plain": [
       "      weekday_1  weekday_2  weekday_3  weekday_4  weekday_5  weekday_6  \\\n",
       "2000          1          0          0          0          0          0   \n",
       "2001          0          1          0          0          0          0   \n",
       "2002          0          0          0          0          0          0   \n",
       "2003          0          1          0          0          0          0   \n",
       "2004          0          1          0          0          0          0   \n",
       "\n",
       "      nb_words_title  nb_words_content  pp_uniq_non-stop_words  nb_links  ...  \\\n",
       "2000               9               843                  0.7469      15.0  ...   \n",
       "2001               9               805                  0.5693       8.0  ...   \n",
       "2002               8               145                  0.8488       7.0  ...   \n",
       "2003              12               201                  0.8148       7.0  ...   \n",
       "2004              13               673                  0.5950       8.0  ...   \n",
       "\n",
       "      pp_neg_words  pp_pos_words_in_nonneutral  ave_polar_pos  min_polar_pos  \\\n",
       "2000      0.019230                      0.7143         0.4437        0.03333   \n",
       "2001      0.025710                      0.5349         0.3081        0.05000   \n",
       "2002      0.007519                      0.8333         0.3673        0.13640   \n",
       "2003      0.027030                      0.7368         0.3721        0.13640   \n",
       "2004      0.021440                      0.5625         0.3500        0.05000   \n",
       "\n",
       "      max_polar_pos  ave_polar_neg  min_polar_neg  max_polar_neg  subj_title  \\\n",
       "2000            1.0        -0.3160        -0.8000          -0.05         0.0   \n",
       "2001            0.8        -0.3463        -0.7143          -0.10         0.9   \n",
       "2002            0.5        -0.2000        -0.2000          -0.20         0.0   \n",
       "2003            0.6        -0.4000        -0.4000          -0.40         0.0   \n",
       "2004            0.6        -0.2435        -0.8000          -0.10         0.0   \n",
       "\n",
       "      polar_title  \n",
       "2000          0.0  \n",
       "2001          0.3  \n",
       "2002          0.0  \n",
       "2003          0.0  \n",
       "2004          0.0  \n",
       "\n",
       "[5 rows x 41 columns]"
      ]
     },
     "execution_count": 15,
     "metadata": {},
     "output_type": "execute_result"
    }
   ],
   "source": [
    "# Get the category data and encode it using a dummy categorical encoding\n",
    "weekdays_data = pd.get_dummies(train_data['weekday'], prefix='weekday', drop_first=True)\n",
    "\n",
    "# Get the rest of the data\n",
    "other_data = train_data.drop(['weekday'], axis=1)\n",
    "\n",
    "# Create a new data set by concatenation of the new weekday data and the old rest of the data\n",
    "training_data = pd.concat([weekdays_data, other_data], axis=1)\n",
    "\n",
    "# Print the created training data.\n",
    "training_data.head(5)"
   ]
  },
  {
   "cell_type": "markdown",
   "metadata": {},
   "source": [
    "N.B: We could encode our weekday feature in a periodical way as below. But this will not help us a lot.  \n",
    "As we see below the value are really spread between weekends and working days, there is no periodical relationship between the parameter for exemple between sunday and monday, so if we apply a periodical transformation to the data it will not help us.   "
   ]
  },
  {
   "cell_type": "code",
   "execution_count": 16,
   "metadata": {},
   "outputs": [
    {
     "data": {
      "image/png": "[encoded data removed]",
      "text/plain": [
       "<Figure size 432x288 with 1 Axes>"
      ]
     },
     "metadata": {
      "needs_background": "light"
     },
     "output_type": "display_data"
    }
   ],
   "source": [
    "train_data_new = train_data.apply(lambda x: np.sin((2*math.pi*x)/7) if x.name == 'weekday' else x)\n",
    "\n",
    "train_data_new.get([\"weekday\"]).plot.hist(grid=True, bins=20, rwidth=0.9,\n",
    "                   color='#607c8e')\n",
    "plt.title('weekday histogram')\n",
    "plt.xlabel('Counts')\n",
    "plt.ylabel('Commute Time')\n",
    "plt.grid(axis='y', alpha=0.75)"
   ]
  },
  {
   "cell_type": "markdown",
   "metadata": {},
   "source": [
    "Let's apply the same encoding to the 'category'. "
   ]
  },
  {
   "cell_type": "code",
   "execution_count": 17,
   "metadata": {},
   "outputs": [
    {
     "data": {
      "text/html": [
       "<div>\n",
       "<style scoped>\n",
       "    .dataframe tbody tr th:only-of-type {\n",
       "        vertical-align: middle;\n",
       "    }\n",
       "\n",
       "    .dataframe tbody tr th {\n",
       "        vertical-align: top;\n",
       "    }\n",
       "\n",
       "    .dataframe thead th {\n",
       "        text-align: right;\n",
       "    }\n",
       "</style>\n",
       "<table border=\"1\" class=\"dataframe\">\n",
       "  <thead>\n",
       "    <tr style=\"text-align: right;\">\n",
       "      <th></th>\n",
       "      <th>category_1</th>\n",
       "      <th>category_2</th>\n",
       "      <th>category_3</th>\n",
       "      <th>category_4</th>\n",
       "      <th>category_5</th>\n",
       "      <th>weekday_1</th>\n",
       "      <th>weekday_2</th>\n",
       "      <th>weekday_3</th>\n",
       "      <th>weekday_4</th>\n",
       "      <th>weekday_5</th>\n",
       "      <th>...</th>\n",
       "      <th>pp_neg_words</th>\n",
       "      <th>pp_pos_words_in_nonneutral</th>\n",
       "      <th>ave_polar_pos</th>\n",
       "      <th>min_polar_pos</th>\n",
       "      <th>max_polar_pos</th>\n",
       "      <th>ave_polar_neg</th>\n",
       "      <th>min_polar_neg</th>\n",
       "      <th>max_polar_neg</th>\n",
       "      <th>subj_title</th>\n",
       "      <th>polar_title</th>\n",
       "    </tr>\n",
       "  </thead>\n",
       "  <tbody>\n",
       "    <tr>\n",
       "      <th>2000</th>\n",
       "      <td>1</td>\n",
       "      <td>0</td>\n",
       "      <td>0</td>\n",
       "      <td>0</td>\n",
       "      <td>0</td>\n",
       "      <td>1</td>\n",
       "      <td>0</td>\n",
       "      <td>0</td>\n",
       "      <td>0</td>\n",
       "      <td>0</td>\n",
       "      <td>...</td>\n",
       "      <td>0.019230</td>\n",
       "      <td>0.7143</td>\n",
       "      <td>0.4437</td>\n",
       "      <td>0.03333</td>\n",
       "      <td>1.0</td>\n",
       "      <td>-0.3160</td>\n",
       "      <td>-0.8000</td>\n",
       "      <td>-0.05</td>\n",
       "      <td>0.0</td>\n",
       "      <td>0.0</td>\n",
       "    </tr>\n",
       "    <tr>\n",
       "      <th>2001</th>\n",
       "      <td>0</td>\n",
       "      <td>0</td>\n",
       "      <td>0</td>\n",
       "      <td>0</td>\n",
       "      <td>1</td>\n",
       "      <td>0</td>\n",
       "      <td>1</td>\n",
       "      <td>0</td>\n",
       "      <td>0</td>\n",
       "      <td>0</td>\n",
       "      <td>...</td>\n",
       "      <td>0.025710</td>\n",
       "      <td>0.5349</td>\n",
       "      <td>0.3081</td>\n",
       "      <td>0.05000</td>\n",
       "      <td>0.8</td>\n",
       "      <td>-0.3463</td>\n",
       "      <td>-0.7143</td>\n",
       "      <td>-0.10</td>\n",
       "      <td>0.9</td>\n",
       "      <td>0.3</td>\n",
       "    </tr>\n",
       "    <tr>\n",
       "      <th>2002</th>\n",
       "      <td>0</td>\n",
       "      <td>0</td>\n",
       "      <td>0</td>\n",
       "      <td>1</td>\n",
       "      <td>0</td>\n",
       "      <td>0</td>\n",
       "      <td>0</td>\n",
       "      <td>0</td>\n",
       "      <td>0</td>\n",
       "      <td>0</td>\n",
       "      <td>...</td>\n",
       "      <td>0.007519</td>\n",
       "      <td>0.8333</td>\n",
       "      <td>0.3673</td>\n",
       "      <td>0.13640</td>\n",
       "      <td>0.5</td>\n",
       "      <td>-0.2000</td>\n",
       "      <td>-0.2000</td>\n",
       "      <td>-0.20</td>\n",
       "      <td>0.0</td>\n",
       "      <td>0.0</td>\n",
       "    </tr>\n",
       "    <tr>\n",
       "      <th>2003</th>\n",
       "      <td>0</td>\n",
       "      <td>0</td>\n",
       "      <td>0</td>\n",
       "      <td>1</td>\n",
       "      <td>0</td>\n",
       "      <td>0</td>\n",
       "      <td>1</td>\n",
       "      <td>0</td>\n",
       "      <td>0</td>\n",
       "      <td>0</td>\n",
       "      <td>...</td>\n",
       "      <td>0.027030</td>\n",
       "      <td>0.7368</td>\n",
       "      <td>0.3721</td>\n",
       "      <td>0.13640</td>\n",
       "      <td>0.6</td>\n",
       "      <td>-0.4000</td>\n",
       "      <td>-0.4000</td>\n",
       "      <td>-0.40</td>\n",
       "      <td>0.0</td>\n",
       "      <td>0.0</td>\n",
       "    </tr>\n",
       "    <tr>\n",
       "      <th>2004</th>\n",
       "      <td>0</td>\n",
       "      <td>0</td>\n",
       "      <td>0</td>\n",
       "      <td>0</td>\n",
       "      <td>1</td>\n",
       "      <td>0</td>\n",
       "      <td>1</td>\n",
       "      <td>0</td>\n",
       "      <td>0</td>\n",
       "      <td>0</td>\n",
       "      <td>...</td>\n",
       "      <td>0.021440</td>\n",
       "      <td>0.5625</td>\n",
       "      <td>0.3500</td>\n",
       "      <td>0.05000</td>\n",
       "      <td>0.6</td>\n",
       "      <td>-0.2435</td>\n",
       "      <td>-0.8000</td>\n",
       "      <td>-0.10</td>\n",
       "      <td>0.0</td>\n",
       "      <td>0.0</td>\n",
       "    </tr>\n",
       "  </tbody>\n",
       "</table>\n",
       "<p>5 rows × 45 columns</p>\n",
       "</div>"
      ],
      "text/plain": [
       "      category_1  category_2  category_3  category_4  category_5  weekday_1  \\\n",
       "2000           1           0           0           0           0          1   \n",
       "2001           0           0           0           0           1          0   \n",
       "2002           0           0           0           1           0          0   \n",
       "2003           0           0           0           1           0          0   \n",
       "2004           0           0           0           0           1          0   \n",
       "\n",
       "      weekday_2  weekday_3  weekday_4  weekday_5  ...  pp_neg_words  \\\n",
       "2000          0          0          0          0  ...      0.019230   \n",
       "2001          1          0          0          0  ...      0.025710   \n",
       "2002          0          0          0          0  ...      0.007519   \n",
       "2003          1          0          0          0  ...      0.027030   \n",
       "2004          1          0          0          0  ...      0.021440   \n",
       "\n",
       "      pp_pos_words_in_nonneutral  ave_polar_pos  min_polar_pos  max_polar_pos  \\\n",
       "2000                      0.7143         0.4437        0.03333            1.0   \n",
       "2001                      0.5349         0.3081        0.05000            0.8   \n",
       "2002                      0.8333         0.3673        0.13640            0.5   \n",
       "2003                      0.7368         0.3721        0.13640            0.6   \n",
       "2004                      0.5625         0.3500        0.05000            0.6   \n",
       "\n",
       "      ave_polar_neg  min_polar_neg  max_polar_neg  subj_title  polar_title  \n",
       "2000        -0.3160        -0.8000          -0.05         0.0          0.0  \n",
       "2001        -0.3463        -0.7143          -0.10         0.9          0.3  \n",
       "2002        -0.2000        -0.2000          -0.20         0.0          0.0  \n",
       "2003        -0.4000        -0.4000          -0.40         0.0          0.0  \n",
       "2004        -0.2435        -0.8000          -0.10         0.0          0.0  \n",
       "\n",
       "[5 rows x 45 columns]"
      ]
     },
     "execution_count": 17,
     "metadata": {},
     "output_type": "execute_result"
    }
   ],
   "source": [
    "# Get the category data and encode it using a dummy categorical encoding\n",
    "category_data = pd.get_dummies(train_data['category'], prefix='category', drop_first=True)\n",
    "\n",
    "# Get the rest of the data\n",
    "other_data = training_data.drop(['category'], axis=1)\n",
    "\n",
    "# Create a new data set by concatenation of the new weekday data and the old rest of the data\n",
    "training_data = pd.concat([category_data, other_data], axis=1)\n",
    "\n",
    "# Print the created training data.\n",
    "training_data.head(5)"
   ]
  },
  {
   "cell_type": "markdown",
   "metadata": {},
   "source": [
    "We should not forget to apply the same transformation to the test data."
   ]
  },
  {
   "cell_type": "code",
   "execution_count": 18,
   "metadata": {},
   "outputs": [
    {
     "data": {
      "text/html": [
       "<div>\n",
       "<style scoped>\n",
       "    .dataframe tbody tr th:only-of-type {\n",
       "        vertical-align: middle;\n",
       "    }\n",
       "\n",
       "    .dataframe tbody tr th {\n",
       "        vertical-align: top;\n",
       "    }\n",
       "\n",
       "    .dataframe thead th {\n",
       "        text-align: right;\n",
       "    }\n",
       "</style>\n",
       "<table border=\"1\" class=\"dataframe\">\n",
       "  <thead>\n",
       "    <tr style=\"text-align: right;\">\n",
       "      <th></th>\n",
       "      <th>category_1</th>\n",
       "      <th>category_2</th>\n",
       "      <th>category_3</th>\n",
       "      <th>category_4</th>\n",
       "      <th>category_5</th>\n",
       "      <th>weekday_1</th>\n",
       "      <th>weekday_2</th>\n",
       "      <th>weekday_3</th>\n",
       "      <th>weekday_4</th>\n",
       "      <th>weekday_5</th>\n",
       "      <th>...</th>\n",
       "      <th>pp_neg_words</th>\n",
       "      <th>pp_pos_words_in_nonneutral</th>\n",
       "      <th>ave_polar_pos</th>\n",
       "      <th>min_polar_pos</th>\n",
       "      <th>max_polar_pos</th>\n",
       "      <th>ave_polar_neg</th>\n",
       "      <th>min_polar_neg</th>\n",
       "      <th>max_polar_neg</th>\n",
       "      <th>subj_title</th>\n",
       "      <th>polar_title</th>\n",
       "    </tr>\n",
       "  </thead>\n",
       "  <tbody>\n",
       "    <tr>\n",
       "      <th>0</th>\n",
       "      <td>0</td>\n",
       "      <td>0</td>\n",
       "      <td>0</td>\n",
       "      <td>0</td>\n",
       "      <td>1</td>\n",
       "      <td>0</td>\n",
       "      <td>0</td>\n",
       "      <td>0</td>\n",
       "      <td>0</td>\n",
       "      <td>0</td>\n",
       "      <td>...</td>\n",
       "      <td>0.01653</td>\n",
       "      <td>0.7143</td>\n",
       "      <td>0.2967</td>\n",
       "      <td>0.10000</td>\n",
       "      <td>1.0</td>\n",
       "      <td>-0.2344</td>\n",
       "      <td>-0.3</td>\n",
       "      <td>-0.1875</td>\n",
       "      <td>0.125</td>\n",
       "      <td>0.0</td>\n",
       "    </tr>\n",
       "    <tr>\n",
       "      <th>1</th>\n",
       "      <td>0</td>\n",
       "      <td>0</td>\n",
       "      <td>0</td>\n",
       "      <td>0</td>\n",
       "      <td>1</td>\n",
       "      <td>0</td>\n",
       "      <td>1</td>\n",
       "      <td>0</td>\n",
       "      <td>0</td>\n",
       "      <td>0</td>\n",
       "      <td>...</td>\n",
       "      <td>0.00000</td>\n",
       "      <td>0.0000</td>\n",
       "      <td>0.0000</td>\n",
       "      <td>0.00000</td>\n",
       "      <td>0.0</td>\n",
       "      <td>0.0000</td>\n",
       "      <td>0.0</td>\n",
       "      <td>0.0000</td>\n",
       "      <td>0.525</td>\n",
       "      <td>0.3</td>\n",
       "    </tr>\n",
       "    <tr>\n",
       "      <th>2</th>\n",
       "      <td>0</td>\n",
       "      <td>0</td>\n",
       "      <td>0</td>\n",
       "      <td>0</td>\n",
       "      <td>1</td>\n",
       "      <td>0</td>\n",
       "      <td>0</td>\n",
       "      <td>1</td>\n",
       "      <td>0</td>\n",
       "      <td>0</td>\n",
       "      <td>...</td>\n",
       "      <td>0.04701</td>\n",
       "      <td>0.5000</td>\n",
       "      <td>0.2617</td>\n",
       "      <td>0.10000</td>\n",
       "      <td>1.0</td>\n",
       "      <td>-0.2170</td>\n",
       "      <td>-0.5</td>\n",
       "      <td>-0.1250</td>\n",
       "      <td>0.000</td>\n",
       "      <td>-0.2</td>\n",
       "    </tr>\n",
       "    <tr>\n",
       "      <th>3</th>\n",
       "      <td>0</td>\n",
       "      <td>0</td>\n",
       "      <td>0</td>\n",
       "      <td>1</td>\n",
       "      <td>0</td>\n",
       "      <td>0</td>\n",
       "      <td>0</td>\n",
       "      <td>0</td>\n",
       "      <td>0</td>\n",
       "      <td>0</td>\n",
       "      <td>...</td>\n",
       "      <td>0.01512</td>\n",
       "      <td>0.7500</td>\n",
       "      <td>0.3585</td>\n",
       "      <td>0.03333</td>\n",
       "      <td>1.0</td>\n",
       "      <td>-0.2403</td>\n",
       "      <td>-0.5</td>\n",
       "      <td>-0.0500</td>\n",
       "      <td>0.000</td>\n",
       "      <td>0.0</td>\n",
       "    </tr>\n",
       "    <tr>\n",
       "      <th>4</th>\n",
       "      <td>0</td>\n",
       "      <td>0</td>\n",
       "      <td>0</td>\n",
       "      <td>0</td>\n",
       "      <td>1</td>\n",
       "      <td>0</td>\n",
       "      <td>1</td>\n",
       "      <td>0</td>\n",
       "      <td>0</td>\n",
       "      <td>0</td>\n",
       "      <td>...</td>\n",
       "      <td>0.02151</td>\n",
       "      <td>0.6667</td>\n",
       "      <td>0.4881</td>\n",
       "      <td>0.28570</td>\n",
       "      <td>1.0</td>\n",
       "      <td>-0.8000</td>\n",
       "      <td>-1.0</td>\n",
       "      <td>-0.6000</td>\n",
       "      <td>0.000</td>\n",
       "      <td>0.0</td>\n",
       "    </tr>\n",
       "  </tbody>\n",
       "</table>\n",
       "<p>5 rows × 45 columns</p>\n",
       "</div>"
      ],
      "text/plain": [
       "   category_1  category_2  category_3  category_4  category_5  weekday_1  \\\n",
       "0           0           0           0           0           1          0   \n",
       "1           0           0           0           0           1          0   \n",
       "2           0           0           0           0           1          0   \n",
       "3           0           0           0           1           0          0   \n",
       "4           0           0           0           0           1          0   \n",
       "\n",
       "   weekday_2  weekday_3  weekday_4  weekday_5  ...  pp_neg_words  \\\n",
       "0          0          0          0          0  ...       0.01653   \n",
       "1          1          0          0          0  ...       0.00000   \n",
       "2          0          1          0          0  ...       0.04701   \n",
       "3          0          0          0          0  ...       0.01512   \n",
       "4          1          0          0          0  ...       0.02151   \n",
       "\n",
       "   pp_pos_words_in_nonneutral  ave_polar_pos  min_polar_pos  max_polar_pos  \\\n",
       "0                      0.7143         0.2967        0.10000            1.0   \n",
       "1                      0.0000         0.0000        0.00000            0.0   \n",
       "2                      0.5000         0.2617        0.10000            1.0   \n",
       "3                      0.7500         0.3585        0.03333            1.0   \n",
       "4                      0.6667         0.4881        0.28570            1.0   \n",
       "\n",
       "   ave_polar_neg  min_polar_neg  max_polar_neg  subj_title  polar_title  \n",
       "0        -0.2344           -0.3        -0.1875       0.125          0.0  \n",
       "1         0.0000            0.0         0.0000       0.525          0.3  \n",
       "2        -0.2170           -0.5        -0.1250       0.000         -0.2  \n",
       "3        -0.2403           -0.5        -0.0500       0.000          0.0  \n",
       "4        -0.8000           -1.0        -0.6000       0.000          0.0  \n",
       "\n",
       "[5 rows x 45 columns]"
      ]
     },
     "execution_count": 18,
     "metadata": {},
     "output_type": "execute_result"
    }
   ],
   "source": [
    "#drop the unsusefull features\n",
    "test_data=test_data.drop(['pp_uniq_words', 'pp_stop_words', 'nb_outside_links', 'nb_mina_mink', 'nb_mina_avek', 'nb_avea_avek', 'nb_ave_linked'], axis = 1)\n",
    "\n",
    "# Get the category data and encode it using a dummy categorical encoding\n",
    "weekdays_data = pd.get_dummies(test_data['weekday'], prefix='weekday', drop_first=True)\n",
    "\n",
    "# Get the rest of the data\n",
    "other_data = test_data.drop(['weekday'], axis=1)\n",
    "\n",
    "# Create a new data set by concatenation of the new weekday data and the old rest of the data\n",
    "test_data = pd.concat([weekdays_data, other_data], axis=1)\n",
    "\n",
    "# Get the category data and encode it using a dummy categorical encoding\n",
    "category_data = pd.get_dummies(test_data['category'], prefix='category', drop_first=True)\n",
    "\n",
    "# Get the rest of the data\n",
    "other_data = test_data.drop(['category'], axis=1)\n",
    "\n",
    "# Create a new data set by concatenation of the new weekday data and the old rest of the data\n",
    "test_data = pd.concat([category_data, other_data], axis=1)\n",
    "\n",
    "# Print the created test data.\n",
    "test_data.head(5)"
   ]
  },
  {
   "cell_type": "markdown",
   "metadata": {
    "editable": true
   },
   "source": [
    "In our regression problem here, we have many features expressed as continuous independent variables evolving in different scales, standardizing our data might be usefull. If we do not their contributions to the model may not be equal, since the features with higher values range will have a much important weight and this may biased our model. Especially if we use distance based models such as the ridge regression that we will use below."
   ]
  },
  {
   "cell_type": "code",
   "execution_count": 19,
   "metadata": {},
   "outputs": [],
   "source": [
    "# Create a standardizer object and fit it to the training data.\n",
    "std_scale = preprocessing.StandardScaler().fit(training_data)\n",
    "\n",
    "# Apply the standardization to the training and the test data.\n",
    "training_data_std = std_scale.transform(training_data)\n",
    "test_data_std = std_scale.transform(test_data)"
   ]
  },
  {
   "cell_type": "markdown",
   "metadata": {},
   "source": [
    "Note that the standarization take in account only the training data, with that we avoid leaking of a small amount of information from test to train and hence biasing our model. "
   ]
  },
  {
   "cell_type": "markdown",
   "metadata": {},
   "source": [
    "## Model selection"
   ]
  },
  {
   "cell_type": "markdown",
   "metadata": {
    "editable": true
   },
   "source": [
    " In this section, we will start our model selection."
   ]
  },
  {
   "cell_type": "markdown",
   "metadata": {},
   "source": [
    "### 1. Parametric models"
   ]
  },
  {
   "cell_type": "markdown",
   "metadata": {},
   "source": [
    "We will first try two different but simple linear model whitout tuning their hyperparameters just to have a quick overview on their behavior. A logistic regression with and without a ridge regularization."
   ]
  },
  {
   "cell_type": "markdown",
   "metadata": {},
   "source": [
    "First let's start with the <b>non regularized logistic regression</b>."
   ]
  },
  {
   "cell_type": "markdown",
   "metadata": {},
   "source": [
    "We set up first a <b>Kfold</b> to cross validate our model. It will help un to better evaluate it."
   ]
  },
  {
   "cell_type": "code",
   "execution_count": 20,
   "metadata": {},
   "outputs": [],
   "source": [
    "# set up folds for cross_validation\n",
    "folds_regr = StratifiedKFold(n_splits=5, shuffle=True)"
   ]
  },
  {
   "cell_type": "markdown",
   "metadata": {},
   "source": [
    "Note that we have used a Stratified KFold so that the different folds have the same proportion of the different sample. Hence we will have a better overall estimation of our model."
   ]
  },
  {
   "cell_type": "markdown",
   "metadata": {},
   "source": [
    "let's initialize our model :"
   ]
  },
  {
   "cell_type": "code",
   "execution_count": 21,
   "metadata": {},
   "outputs": [
    {
     "name": "stderr",
     "output_type": "stream",
     "text": [
      "/opt/tljh/user/lib/python3.6/site-packages/sklearn/model_selection/_split.py:657: Warning: The least populated class in y has only 1 members, which is too few. The minimum number of members in any class cannot be less than n_splits=5.\n",
      "  % (min_groups, self.n_splits)), Warning)\n"
     ]
    }
   ],
   "source": [
    "# Initialize a LogisticRegression model. saga:5min 0.8 default:10min 0.9, lbfgs: 30sec 0.44\n",
    "logreg = linear_model.LogisticRegression(random_state=0, penalty=\"none\", solver=\"lbfgs\")\n",
    "\n",
    "#cross validate the model\n",
    "score=cross_val_score(logreg, training_data_std, y_tr, scoring=\"neg_mean_squared_log_error\", cv=folds_regr, n_jobs=-1)"
   ]
  },
  {
   "cell_type": "markdown",
   "metadata": {},
   "source": [
    "Note: I tried different solver \"saga\", \"sag\", \"lbfgs\", \"liblinear\" none of them were converging and their computational time was high (more than 5min per fold). The only one that was ok is \"lfbgs\" (30sec per fold) but as said before is not converging.    "
   ]
  },
  {
   "cell_type": "code",
   "execution_count": 22,
   "metadata": {},
   "outputs": [
    {
     "name": "stdout",
     "output_type": "stream",
     "text": [
      "1.1220226166895477\n"
     ]
    }
   ],
   "source": [
    "#rmsle score of the model\n",
    "rmsle_logreg=math.sqrt(abs(np.average(score)))\n",
    "\n",
    "print(rmsle_logreg)"
   ]
  },
  {
   "cell_type": "markdown",
   "metadata": {},
   "source": [
    "Now let's cross validate the <b>l2 regularized logistic regression model</b>."
   ]
  },
  {
   "cell_type": "code",
   "execution_count": 23,
   "metadata": {},
   "outputs": [
    {
     "name": "stderr",
     "output_type": "stream",
     "text": [
      "/opt/tljh/user/lib/python3.6/site-packages/sklearn/model_selection/_split.py:657: Warning: The least populated class in y has only 1 members, which is too few. The minimum number of members in any class cannot be less than n_splits=5.\n",
      "  % (min_groups, self.n_splits)), Warning)\n"
     ]
    }
   ],
   "source": [
    "# Initialize a LogisticRegression model. saga:5min 0.8 default:10min 0.9, lbfgs: 30sec 0.44\n",
    "logreg_l2 = linear_model.LogisticRegression(random_state=0, penalty=\"l2\", solver=\"lbfgs\")\n",
    "\n",
    "\n",
    "#cross validate the model\n",
    "score=cross_val_score(logreg_l2, training_data_std, y_tr, scoring=\"neg_mean_squared_log_error\", cv=folds_regr, n_jobs=-1)"
   ]
  },
  {
   "cell_type": "code",
   "execution_count": 24,
   "metadata": {},
   "outputs": [
    {
     "name": "stdout",
     "output_type": "stream",
     "text": [
      "1.0862326656072412\n"
     ]
    }
   ],
   "source": [
    "#rmsle score of the model\n",
    "rmsle_logreg_l2=math.sqrt(abs(np.average(score)))\n",
    "\n",
    "print(rmsle_logreg_l2)"
   ]
  },
  {
   "cell_type": "markdown",
   "metadata": {},
   "source": [
    "as shown above their two score are quite similar. To have a better model we will try to thune the hyperparameters of our ridge regression. "
   ]
  },
  {
   "cell_type": "markdown",
   "metadata": {},
   "source": [
    "For that we will use a <b>grid Search cross validation</b> to try different combination of hyperparameters and evaluate their performane. Then we will select the best model."
   ]
  },
  {
   "cell_type": "markdown",
   "metadata": {},
   "source": [
    "Now let's select the best hyperparam <b>'C'</b> (i.e the regularization coef) for the <b>ridge logistic regression</b>."
   ]
  },
  {
   "cell_type": "code",
   "execution_count": 25,
   "metadata": {},
   "outputs": [
    {
     "name": "stdout",
     "output_type": "stream",
     "text": [
      "[1.00000000e-05 2.06913808e-05 4.28133240e-05 8.85866790e-05\n",
      " 1.83298071e-04 3.79269019e-04 7.84759970e-04 1.62377674e-03\n",
      " 3.35981829e-03 6.95192796e-03 1.43844989e-02 2.97635144e-02\n",
      " 6.15848211e-02 1.27427499e-01 2.63665090e-01 5.45559478e-01\n",
      " 1.12883789e+00 2.33572147e+00 4.83293024e+00 1.00000000e+01]\n"
     ]
    }
   ],
   "source": [
    "# Create a range of values to test for the parameter C\n",
    "cvalues_list = np.logspace(-5, 1, 20)\n",
    "print(cvalues_list)"
   ]
  },
  {
   "cell_type": "code",
   "execution_count": 26,
   "metadata": {},
   "outputs": [
    {
     "name": "stderr",
     "output_type": "stream",
     "text": [
      "/opt/tljh/user/lib/python3.6/site-packages/sklearn/model_selection/_split.py:657: Warning: The least populated class in y has only 1 members, which is too few. The minimum number of members in any class cannot be less than n_splits=5.\n",
      "  % (min_groups, self.n_splits)), Warning)\n",
      "/opt/tljh/user/lib/python3.6/site-packages/sklearn/model_selection/_search.py:814: DeprecationWarning: The default of the `iid` parameter will change from True to False in version 0.22 and will be removed in 0.24. This will change numeric results when test-set sizes are unequal.\n",
      "  DeprecationWarning)\n"
     ]
    },
    {
     "data": {
      "text/plain": [
       "GridSearchCV(cv=StratifiedKFold(n_splits=5, random_state=None, shuffle=True),\n",
       "             error_score='raise-deprecating',\n",
       "             estimator=LogisticRegression(C=1.0, class_weight=None, dual=False,\n",
       "                                          fit_intercept=True,\n",
       "                                          intercept_scaling=1, l1_ratio=None,\n",
       "                                          max_iter=100, multi_class='warn',\n",
       "                                          n_jobs=None, penalty='l2',\n",
       "                                          random_state=None, solver='lbfgs',\n",
       "                                          tol=0.0001, verbose=0,\n",
       "                                          warm_start=Fals...\n",
       "       1.83298071e-04, 3.79269019e-04, 7.84759970e-04, 1.62377674e-03,\n",
       "       3.35981829e-03, 6.95192796e-03, 1.43844989e-02, 2.97635144e-02,\n",
       "       6.15848211e-02, 1.27427499e-01, 2.63665090e-01, 5.45559478e-01,\n",
       "       1.12883789e+00, 2.33572147e+00, 4.83293024e+00, 1.00000000e+01])},\n",
       "             pre_dispatch='2*n_jobs', refit=True, return_train_score=False,\n",
       "             scoring='neg_mean_squared_log_error', verbose=0)"
      ]
     },
     "execution_count": 26,
     "metadata": {},
     "output_type": "execute_result"
    }
   ],
   "source": [
    "# Optimize cvalue\n",
    "classifier = linear_model.LogisticRegression(penalty='l2', solver=\"lbfgs\")\n",
    "param_grid = {'C': cvalues_list\n",
    "             }\n",
    "reg_l2_opt = GridSearchCV(classifier, \n",
    "                                param_grid, \n",
    "                                cv=folds_regr,\n",
    "                                scoring=\"neg_mean_squared_log_error\",\n",
    "                                n_jobs=-1)     \n",
    "reg_l2_opt.fit(training_data_std, y_tr)"
   ]
  },
  {
   "cell_type": "code",
   "execution_count": 41,
   "metadata": {},
   "outputs": [
    {
     "name": "stdout",
     "output_type": "stream",
     "text": [
      "best_score  -0.9317381705802109\n",
      "Scaled, l2 regularization (C=6.16e-02): rmsle = 0.965\n"
     ]
    }
   ],
   "source": [
    "# get mean scores of the best model\n",
    "best_score=reg_l2_opt.best_score_\n",
    "print(\"best_score \", best_score)\n",
    "# optimal value of C\n",
    "cvalue_opt = dict(reg_l2_opt.best_estimator_.get_params(deep=False).items())['C']\n",
    "rmsle_logreg_l2_opt=math.sqrt(abs(best_score))\n",
    "\n",
    "print(\"Scaled, l2 regularization (C=%.2e): rmsle = %.3f\" % (cvalue_opt, \n",
    "                                                               rmsle_logreg_l2_opt))\n",
    "\n",
    "logreg_l2_opt=reg_l2_opt.best_estimator_"
   ]
  },
  {
   "cell_type": "markdown",
   "metadata": {},
   "source": [
    "As expected the score is slightly better now, but let's see if we can find a better model. For this we will try some non parametric model."
   ]
  },
  {
   "cell_type": "markdown",
   "metadata": {},
   "source": [
    "### 2. non parametric models"
   ]
  },
  {
   "cell_type": "markdown",
   "metadata": {},
   "source": [
    "first let's try the <b>SVM</b> (support vector Machine) with a <b>Radial Basis Function</b> (RBF) kernel. Since it's a regression problem we will use the fonction SVR(support vector regression) instead of SVC(support vector classification)"
   ]
  },
  {
   "cell_type": "markdown",
   "metadata": {},
   "source": [
    "Here we just try the model with random or default hyperparameters to see how it behave. We will thune them later with a search grid cross validation."
   ]
  },
  {
   "cell_type": "code",
   "execution_count": 42,
   "metadata": {},
   "outputs": [
    {
     "name": "stderr",
     "output_type": "stream",
     "text": [
      "/opt/tljh/user/lib/python3.6/site-packages/sklearn/model_selection/_split.py:657: Warning: The least populated class in y has only 1 members, which is too few. The minimum number of members in any class cannot be less than n_splits=5.\n",
      "  % (min_groups, self.n_splits)), Warning)\n"
     ]
    }
   ],
   "source": [
    "svr=SVR(C=1.0, kernel=\"rbf\", gamma=1e-2)\n",
    "\n",
    "#cross validate the model\n",
    "score=cross_val_score(svr, training_data_std, y_tr, scoring=\"neg_mean_squared_log_error\", cv=folds_regr, n_jobs=-1)"
   ]
  },
  {
   "cell_type": "code",
   "execution_count": 43,
   "metadata": {},
   "outputs": [
    {
     "name": "stdout",
     "output_type": "stream",
     "text": [
      "0.9356206387182059\n"
     ]
    }
   ],
   "source": [
    "#rmsle score of the model\n",
    "rmsle_svr=math.sqrt(abs(np.average(score)))\n",
    "\n",
    "print(rmsle_svr)"
   ]
  },
  {
   "cell_type": "markdown",
   "metadata": {},
   "source": [
    "As shown in the score above, even if the hyperparameters are choosen randomly, the score is better that the ridge regression which is a good indicator. Let's see if we can do better."
   ]
  },
  {
   "cell_type": "code",
   "execution_count": 44,
   "metadata": {},
   "outputs": [],
   "source": [
    "# choisir 6 valeurs pour C, entre 1e-2 et 1e3\n",
    "C_range = np.logspace(-2, 3, 6)\n",
    "\n",
    "# choisir 4 valeurs pour gamma, entre 1e-2 et 10\n",
    "gamma_range = np.logspace(-2, 1, 4)\n",
    "\n",
    "# choisir 4 valeurs pour epsilon, entre 1e-2 et 10\n",
    "epsilon_range = np.logspace(-2, 1, 4)\n",
    "\n",
    "# grille de paramètres\n",
    "parameters = {'C': C_range, 'gamma': gamma_range, 'epsilon':epsilon_range}\n"
   ]
  },
  {
   "cell_type": "code",
   "execution_count": 45,
   "metadata": {},
   "outputs": [
    {
     "name": "stderr",
     "output_type": "stream",
     "text": [
      "/opt/tljh/user/lib/python3.6/site-packages/sklearn/model_selection/_split.py:657: Warning: The least populated class in y has only 1 members, which is too few. The minimum number of members in any class cannot be less than n_splits=5.\n",
      "  % (min_groups, self.n_splits)), Warning)\n",
      "/opt/tljh/user/lib/python3.6/site-packages/sklearn/model_selection/_search.py:814: DeprecationWarning: The default of the `iid` parameter will change from True to False in version 0.22 and will be removed in 0.24. This will change numeric results when test-set sizes are unequal.\n",
      "  DeprecationWarning)\n"
     ]
    },
    {
     "data": {
      "text/plain": [
       "GridSearchCV(cv=StratifiedKFold(n_splits=5, random_state=None, shuffle=True),\n",
       "             error_score='raise-deprecating',\n",
       "             estimator=SVR(C=1.0, cache_size=200, coef0=0.0, degree=3,\n",
       "                           epsilon=0.1, gamma='auto_deprecated', kernel='rbf',\n",
       "                           max_iter=-1, shrinking=True, tol=0.001,\n",
       "                           verbose=False),\n",
       "             iid='warn', n_jobs=-1,\n",
       "             param_grid={'C': array([1.e-02, 1.e-01, 1.e+00, 1.e+01, 1.e+02, 1.e+03]),\n",
       "                         'epsilon': array([ 0.01,  0.1 ,  1.  , 10.  ]),\n",
       "                         'gamma': array([ 0.01,  0.1 ,  1.  , 10.  ])},\n",
       "             pre_dispatch='2*n_jobs', refit=True, return_train_score=False,\n",
       "             scoring='neg_mean_squared_log_error', verbose=0)"
      ]
     },
     "execution_count": 45,
     "metadata": {},
     "output_type": "execute_result"
    }
   ],
   "source": [
    "# initialize a model\n",
    "svr_rbf = SVR(kernel='rbf')\n",
    "\n",
    "# initialize cross validation\n",
    "clf = GridSearchCV(estimator=svr_rbf, \n",
    "                   param_grid=parameters,\n",
    "                   cv=folds_regr,\n",
    "                   scoring=\"neg_mean_squared_log_error\",\n",
    "                   n_jobs=-1)\n",
    "\n",
    "# run the cross validation using train dataset\n",
    "clf.fit(training_data_std, y_tr)"
   ]
  },
  {
   "cell_type": "code",
   "execution_count": 46,
   "metadata": {},
   "outputs": [
    {
     "name": "stdout",
     "output_type": "stream",
     "text": [
      "best_score  -0.7760634449673002\n",
      "Scaled, SVM rbf kernel (C=1.00e+03), (gamma=0.010), (epsilon=10.000): rmsle = 0.881\n"
     ]
    }
   ],
   "source": [
    "# get mean scores of the best model\n",
    "best_score=clf.best_score_\n",
    "print(\"best_score \", best_score)\n",
    "# optimal value of C\n",
    "cvalue_opt = dict(clf.best_estimator_.get_params(deep=False).items())['C']\n",
    "gamma_opt = dict(clf.best_estimator_.get_params(deep=False).items())['gamma']\n",
    "epsilon_opt = dict(clf.best_estimator_.get_params(deep=False).items())['epsilon']\n",
    "rmsle_svr_rbf_opt=math.sqrt(abs(best_score))\n",
    "\n",
    "print(\"Scaled, SVM rbf kernel (C=%.2e), (gamma=%.3f), (epsilon=%.3f): rmsle = %.3f\" % (cvalue_opt, \n",
    "                                                gamma_opt,\n",
    "                                                epsilon_opt,\n",
    "                                                rmsle_svr_rbf_opt))\n",
    "regr_svr_rbf_opt=clf.best_estimator_"
   ]
  },
  {
   "cell_type": "markdown",
   "metadata": {},
   "source": [
    "Well as shown above the grid search allow us to select better hyperparameters for the model, we even reach a higher score than before. good news! "
   ]
  },
  {
   "cell_type": "markdown",
   "metadata": {},
   "source": [
    "Now let's try the same <b>SVM</b> but with a <b>linear kernel</b>. Let's try it first with some default values."
   ]
  },
  {
   "cell_type": "code",
   "execution_count": 47,
   "metadata": {},
   "outputs": [
    {
     "name": "stderr",
     "output_type": "stream",
     "text": [
      "/opt/tljh/user/lib/python3.6/site-packages/sklearn/model_selection/_split.py:657: Warning: The least populated class in y has only 1 members, which is too few. The minimum number of members in any class cannot be less than n_splits=5.\n",
      "  % (min_groups, self.n_splits)), Warning)\n"
     ]
    }
   ],
   "source": [
    "#initialize a model\n",
    "svr=SVR(C=1.0, kernel=\"linear\")\n",
    "\n",
    "#cross validate the model\n",
    "score=cross_val_score(svr, training_data_std, y_tr, scoring=\"neg_mean_squared_log_error\", cv=folds_regr, n_jobs=-1)"
   ]
  },
  {
   "cell_type": "code",
   "execution_count": 48,
   "metadata": {},
   "outputs": [
    {
     "name": "stdout",
     "output_type": "stream",
     "text": [
      "0.9017672978249661\n"
     ]
    }
   ],
   "source": [
    "#rmsle score of the model\n",
    "rmsle_svr_lin=math.sqrt(abs(np.average(score)))\n",
    "\n",
    "print(rmsle_svr_lin)"
   ]
  },
  {
   "cell_type": "markdown",
   "metadata": {},
   "source": [
    "The result is ok. Let's try to improve it by tuning <b>C</b> and <b>epsilon</b> with a grid search"
   ]
  },
  {
   "cell_type": "code",
   "execution_count": 49,
   "metadata": {},
   "outputs": [],
   "source": [
    "# choisir 6 valeurs pour C, entre 1e-2 et 1e3\n",
    "C_range = np.logspace(-2, 3, 6)\n",
    "\n",
    "# choisir 4 valeurs pour epsilon, entre 1e-2 et 10\n",
    "epsilon_range = np.logspace(-3, 1, 5)\n",
    "# grille de paramètres\n",
    "parameters = {'C': C_range, 'epsilon':epsilon_range}\n",
    "\n"
   ]
  },
  {
   "cell_type": "code",
   "execution_count": 50,
   "metadata": {},
   "outputs": [
    {
     "name": "stderr",
     "output_type": "stream",
     "text": [
      "/opt/tljh/user/lib/python3.6/site-packages/sklearn/model_selection/_split.py:657: Warning: The least populated class in y has only 1 members, which is too few. The minimum number of members in any class cannot be less than n_splits=5.\n",
      "  % (min_groups, self.n_splits)), Warning)\n",
      "/opt/tljh/user/lib/python3.6/site-packages/sklearn/model_selection/_search.py:814: DeprecationWarning: The default of the `iid` parameter will change from True to False in version 0.22 and will be removed in 0.24. This will change numeric results when test-set sizes are unequal.\n",
      "  DeprecationWarning)\n"
     ]
    },
    {
     "data": {
      "text/plain": [
       "GridSearchCV(cv=StratifiedKFold(n_splits=5, random_state=None, shuffle=True),\n",
       "             error_score='raise-deprecating',\n",
       "             estimator=SVR(C=1.0, cache_size=200, coef0=0.0, degree=3,\n",
       "                           epsilon=0.1, gamma='auto_deprecated',\n",
       "                           kernel='linear', max_iter=-1, shrinking=True,\n",
       "                           tol=0.001, verbose=False),\n",
       "             iid='warn', n_jobs=-1,\n",
       "             param_grid={'C': array([1.e-02, 1.e-01, 1.e+00, 1.e+01, 1.e+02, 1.e+03]),\n",
       "                         'epsilon': array([1.e-03, 1.e-02, 1.e-01, 1.e+00, 1.e+01])},\n",
       "             pre_dispatch='2*n_jobs', refit=True, return_train_score=False,\n",
       "             scoring='neg_mean_squared_log_error', verbose=0)"
      ]
     },
     "execution_count": 50,
     "metadata": {},
     "output_type": "execute_result"
    }
   ],
   "source": [
    "# initialize a model\n",
    "svr_lin = SVR(kernel='linear')\n",
    "\n",
    "# initialize cross validation\n",
    "clf = GridSearchCV(estimator=svr_lin, \n",
    "                   param_grid=parameters,\n",
    "                   cv=folds_regr,\n",
    "                   scoring=\"neg_mean_squared_log_error\",\n",
    "                    n_jobs=-1)\n",
    "\n",
    "# run the cross validation using train dataset\n",
    "clf.fit(training_data_std, y_tr)"
   ]
  },
  {
   "cell_type": "code",
   "execution_count": 51,
   "metadata": {},
   "outputs": [
    {
     "name": "stdout",
     "output_type": "stream",
     "text": [
      "Scaled, SVM linear (C=1000.00), (epsilon=10.000) rmsle=0.8953\n"
     ]
    }
   ],
   "source": [
    "# get mean scores of the best model\n",
    "best_score=clf.best_score_\n",
    "\n",
    "# optimal value of C\n",
    "c_value_opt = dict(clf.best_estimator_.get_params(deep=False).items())['C']\n",
    "epsilon_opt=dict(clf.best_estimator_.get_params(deep=False).items())['epsilon']\n",
    "\n",
    "rmsle_svr_lin_opt=math.sqrt(abs(best_score))\n",
    "\n",
    "print(\"Scaled, SVM linear (C=%.2f), (epsilon=%.3f) rmsle=%.4f\" % (c_value_opt, \n",
    "                                                epsilon_opt,\n",
    "                                                rmsle_svr_lin_opt))\n",
    "regr_svr_lin_opt=clf.best_estimator_"
   ]
  },
  {
   "cell_type": "markdown",
   "metadata": {},
   "source": [
    "The result is slightly different from the SVM with an <b>exponential kernel (rbf)</b>"
   ]
  },
  {
   "cell_type": "markdown",
   "metadata": {},
   "source": [
    "Let's try now a <b>random forest</b>"
   ]
  },
  {
   "cell_type": "code",
   "execution_count": 52,
   "metadata": {},
   "outputs": [
    {
     "name": "stderr",
     "output_type": "stream",
     "text": [
      "/opt/tljh/user/lib/python3.6/site-packages/sklearn/model_selection/_split.py:657: Warning: The least populated class in y has only 1 members, which is too few. The minimum number of members in any class cannot be less than n_splits=5.\n",
      "  % (min_groups, self.n_splits)), Warning)\n"
     ]
    }
   ],
   "source": [
    "# initialize a model\n",
    "rf=RandomForestRegressor(n_jobs=-1, n_estimators=80, max_features=0.5, min_samples_leaf=30 )\n",
    "\n",
    "#cross validate the model\n",
    "score=cross_val_score(rf, training_data_std, y_tr, scoring=\"neg_mean_squared_log_error\", cv=folds_regr, n_jobs=-1)"
   ]
  },
  {
   "cell_type": "code",
   "execution_count": 53,
   "metadata": {},
   "outputs": [
    {
     "name": "stdout",
     "output_type": "stream",
     "text": [
      "1.0185782696476255\n"
     ]
    }
   ],
   "source": [
    "#rmsle score of the model\n",
    "rmsle_rf=math.sqrt(abs(np.average(score)))\n",
    "\n",
    "print(rmsle_rf)"
   ]
  },
  {
   "cell_type": "markdown",
   "metadata": {},
   "source": [
    "unfortunatly here the results are lower than expected. Let's try if we can do better by tuning the hyperparameters."
   ]
  },
  {
   "cell_type": "markdown",
   "metadata": {},
   "source": [
    "here are primarily 3 features which can be tuned to improve the predictive power of the model :\n",
    "\n",
    "<b>1.a. max_features:</b>\n",
    "These are the maximum number of features Random Forest is allowed to try in individual tree. Increasing max_features generally improves the performance of the model as at each node now we have a higher number of options to be considered. However, this is not necessarily true as this decreases the diversity of individual tree which is the USP of random forest. But, for sure, we decrease the speed of the algorithm by increasing the max_features. \n",
    "\n",
    "<b>1.b. n_estimators :</b>\n",
    "This is the number of trees we want to build before taking the maximum voting or averages of predictions. Higher number of trees gives us better performance but makes our code slower. \n",
    " \n",
    "<b>1.c. min_sample_leaf :</b>\n",
    "specifies the minimum number of samples required to be at a leaf node.\n",
    "A smaller leaf makes the model more prone to capturing noise in train data. "
   ]
  },
  {
   "cell_type": "code",
   "execution_count": 54,
   "metadata": {},
   "outputs": [
    {
     "name": "stderr",
     "output_type": "stream",
     "text": [
      "/opt/tljh/user/lib/python3.6/site-packages/sklearn/model_selection/_split.py:657: Warning: The least populated class in y has only 1 members, which is too few. The minimum number of members in any class cannot be less than n_splits=5.\n",
      "  % (min_groups, self.n_splits)), Warning)\n",
      "/opt/tljh/user/lib/python3.6/site-packages/sklearn/model_selection/_search.py:814: DeprecationWarning: The default of the `iid` parameter will change from True to False in version 0.22 and will be removed in 0.24. This will change numeric results when test-set sizes are unequal.\n",
      "  DeprecationWarning)\n"
     ]
    },
    {
     "data": {
      "text/plain": [
       "GridSearchCV(cv=StratifiedKFold(n_splits=5, random_state=None, shuffle=True),\n",
       "             error_score='raise-deprecating',\n",
       "             estimator=RandomForestRegressor(bootstrap=True, criterion='mse',\n",
       "                                             max_depth=None,\n",
       "                                             max_features='auto',\n",
       "                                             max_leaf_nodes=None,\n",
       "                                             min_impurity_decrease=0.0,\n",
       "                                             min_impurity_split=None,\n",
       "                                             min_samples_leaf=1,\n",
       "                                             min_samples_split=2,\n",
       "                                             min_weight_fraction_leaf=0.0,\n",
       "                                             n_estimators='warn', n_jobs=-1,\n",
       "                                             oob_score=False, random_state=None,\n",
       "                                             verbose=0, warm_start=False),\n",
       "             iid='warn', n_jobs=-1,\n",
       "             param_grid={'max_features': [0.8], 'min_samples_leaf': [30],\n",
       "                         'n_estimators': [800]},\n",
       "             pre_dispatch='2*n_jobs', refit=True, return_train_score=False,\n",
       "             scoring='neg_mean_squared_log_error', verbose=0)"
      ]
     },
     "execution_count": 54,
     "metadata": {},
     "output_type": "execute_result"
    }
   ],
   "source": [
    "# Number of trees to use\n",
    "list_n_trees = [500, 800, 1000, 1500]\n",
    "max_features = [0.2, 0.3, 0.5, 0.7, 0.8]\n",
    "list_min_sample_leaf=[10, 30, 50, 70]\n",
    "\n",
    "# Define the grid of parameters to test\n",
    "param_grid ={'n_estimators': list_n_trees, 'max_features':max_features, 'min_samples_leaf':list_min_sample_leaf }\n",
    "\n",
    "# Initialize a GridSearchCV object that will be used to cross-validate\n",
    "# a random forest with these parameters.\n",
    "regr_rf = GridSearchCV(RandomForestRegressor(n_jobs=-1), \n",
    "                                    param_grid=param_grid,\n",
    "                                    scoring='neg_mean_squared_log_error',\n",
    "                                    cv=folds_regr,\n",
    "                                    n_jobs=-1)\n",
    "# run the cross validation using train dataset\n",
    "regr_rf.fit(training_data_std, y_tr)"
   ]
  },
  {
   "cell_type": "code",
   "execution_count": 55,
   "metadata": {},
   "outputs": [
    {
     "name": "stdout",
     "output_type": "stream",
     "text": [
      "best_score  -1.0334853779084037\n",
      "Scaled, RF (nb_trees=8.00e+02), (max_features=0.800), (min_sample_leaf=30.000): rmsle = 1.017\n"
     ]
    }
   ],
   "source": [
    "# get mean scores of the best model\n",
    "best_score=regr_rf.best_score_\n",
    "print(\"best_score \", best_score)\n",
    "# optimal value of C\n",
    "n_trees_opt = dict(regr_rf.best_estimator_.get_params(deep=False).items())['n_estimators']\n",
    "max_features_opt = dict(regr_rf.best_estimator_.get_params(deep=False).items())['max_features']\n",
    "min_sample_leaf_opt = dict(regr_rf.best_estimator_.get_params(deep=False).items())['min_samples_leaf']\n",
    "rmsle_rf_opt=math.sqrt(abs(best_score))\n",
    "\n",
    "print(\"Scaled, RF (nb_trees=%.2e), (max_features=%.3f), (min_sample_leaf=%.3f): rmsle = %.3f\" % (n_trees_opt, \n",
    "                                                max_features_opt,\n",
    "                                                min_sample_leaf_opt,\n",
    "                                                rmsle_rf_opt))\n",
    "regr_rf_opt=rf_best=regr_rf.best_estimator_"
   ]
  },
  {
   "cell_type": "markdown",
   "metadata": {},
   "source": [
    "I have to say that I was expeting better result since the litterature says that this model work quite well with regression problems."
   ]
  },
  {
   "cell_type": "markdown",
   "metadata": {},
   "source": [
    "Let's try another approach  <b>Bagging trees</b>"
   ]
  },
  {
   "cell_type": "markdown",
   "metadata": {},
   "source": [
    "First let's explore a simple <b>Bagging trees model</b> using a simple <b>SVM as a base estimator</b>. We will set up the hyperparameters later"
   ]
  },
  {
   "cell_type": "code",
   "execution_count": 56,
   "metadata": {},
   "outputs": [],
   "source": [
    "#initialize the model\n",
    "regr_br = BaggingRegressor(base_estimator=SVR(kernel='rbf'), n_estimators=300, max_features=0.3, max_samples=0.2, n_jobs=-1, random_state=0) "
   ]
  },
  {
   "cell_type": "code",
   "execution_count": 57,
   "metadata": {},
   "outputs": [
    {
     "name": "stderr",
     "output_type": "stream",
     "text": [
      "/opt/tljh/user/lib/python3.6/site-packages/sklearn/model_selection/_split.py:657: Warning: The least populated class in y has only 1 members, which is too few. The minimum number of members in any class cannot be less than n_splits=5.\n",
      "  % (min_groups, self.n_splits)), Warning)\n"
     ]
    }
   ],
   "source": [
    "score = cross_val_score(regr_br, training_data_std, y_tr, scoring=\"neg_mean_squared_log_error\", cv=folds_regr, n_jobs=-1)"
   ]
  },
  {
   "cell_type": "code",
   "execution_count": 58,
   "metadata": {},
   "outputs": [
    {
     "name": "stdout",
     "output_type": "stream",
     "text": [
      "0.9358820042623099\n"
     ]
    }
   ],
   "source": [
    "#rmsle score of the model\n",
    "rmsle_br=math.sqrt(abs(np.average(score)))\n",
    "\n",
    "print(rmsle_br)"
   ]
  },
  {
   "cell_type": "markdown",
   "metadata": {},
   "source": [
    "At a first glance, the result is better than the random forest. let's see if we can to do better. Here the hyper parameters we can tune are:\n",
    "\n",
    "<b>1.a. base estimator:</b>\n",
    "the basic model used to train each tree.\n",
    "\n",
    "<b>1.b. n_estimators :</b>\n",
    "This is the number of trees we want to build before taking the maximum voting or averages of predictions. Higher number of trees gives us better performance but makes our code slower. \n",
    "\n",
    "<b>1.c. max_features :</b>\n",
    "amount of features used to train each base estimator. \n",
    " \n",
    "<b>1.d. max_samples :</b>\n",
    "amount of samples used to train each base estimator. \n"
   ]
  },
  {
   "cell_type": "code",
   "execution_count": 59,
   "metadata": {},
   "outputs": [
    {
     "name": "stderr",
     "output_type": "stream",
     "text": [
      "/opt/tljh/user/lib/python3.6/site-packages/sklearn/model_selection/_split.py:657: Warning: The least populated class in y has only 1 members, which is too few. The minimum number of members in any class cannot be less than n_splits=5.\n",
      "  % (min_groups, self.n_splits)), Warning)\n",
      "/opt/tljh/user/lib/python3.6/site-packages/sklearn/model_selection/_search.py:814: DeprecationWarning: The default of the `iid` parameter will change from True to False in version 0.22 and will be removed in 0.24. This will change numeric results when test-set sizes are unequal.\n",
      "  DeprecationWarning)\n"
     ]
    },
    {
     "data": {
      "text/plain": [
       "GridSearchCV(cv=StratifiedKFold(n_splits=5, random_state=None, shuffle=True),\n",
       "             error_score='raise-deprecating',\n",
       "             estimator=BaggingRegressor(base_estimator=SVR(C=1.0,\n",
       "                                                           cache_size=200,\n",
       "                                                           coef0=0.0, degree=3,\n",
       "                                                           epsilon=0.1,\n",
       "                                                           gamma='auto_deprecated',\n",
       "                                                           kernel='rbf',\n",
       "                                                           max_iter=-1,\n",
       "                                                           shrinking=True,\n",
       "                                                           tol=0.001,\n",
       "                                                           verbose=False),\n",
       "                                        bootstrap=True,\n",
       "                                        bootstrap_features=False,\n",
       "                                        max_features=1.0, max_samples=1.0,\n",
       "                                        n_estimators=10, n_jobs=-1,\n",
       "                                        oob_score=False, random_state=0,\n",
       "                                        verbose=0, warm_start=False),\n",
       "             iid='warn', n_jobs=-1,\n",
       "             param_grid={'max_features': [0.5], 'max_samples': [0.8],\n",
       "                         'n_estimators': [30]},\n",
       "             pre_dispatch='2*n_jobs', refit=True, return_train_score=False,\n",
       "             scoring='neg_mean_squared_log_error', verbose=0)"
      ]
     },
     "execution_count": 59,
     "metadata": {},
     "output_type": "execute_result"
    }
   ],
   "source": [
    "# Number of trees to use\n",
    "list_n_trees = [30, 40, 50, 60, 70] \n",
    "max_features = [0.1, 0.3, 0.5, 0.7]\n",
    "max_samples=[0.2, 0.4, 0.6, 0.8]\n",
    "\n",
    "# Define the grid of parameters to test\n",
    "param_grid ={'n_estimators': list_n_trees, 'max_features':max_features, 'max_samples':max_samples}\n",
    "\n",
    "# Initialize a GridSearchCV object that will be used to cross-validate\n",
    "# a bagging trees with these parameters.\n",
    "regr_br = GridSearchCV(BaggingRegressor(SVR(kernel='rbf'), n_jobs=-1, random_state=0), \n",
    "                                    param_grid=param_grid,\n",
    "                                    scoring='neg_mean_squared_log_error',\n",
    "                                    cv=folds_regr,\n",
    "                                    n_jobs=-1)\n",
    "\n",
    "# run the cross validation using train dataset\n",
    "regr_br.fit(training_data_std, y_tr)"
   ]
  },
  {
   "cell_type": "code",
   "execution_count": 60,
   "metadata": {},
   "outputs": [
    {
     "name": "stdout",
     "output_type": "stream",
     "text": [
      "Scaled, BR (nb_trees=3.00e+01), (max_features=0.500), (max_samples=0.800), (base_estimator=SVR): rmsle = 0.933\n"
     ]
    }
   ],
   "source": [
    "# get mean scores of the best model\n",
    "best_score=regr_br.best_score_\n",
    "\n",
    "# optimal value of C\n",
    "n_trees_opt = dict(regr_br.best_estimator_.get_params(deep=False).items())['n_estimators']\n",
    "max_features_opt = dict(regr_br.best_estimator_.get_params(deep=False).items())['max_features']\n",
    "max_samples_opt = dict(regr_br.best_estimator_.get_params(deep=False).items())['max_samples']\n",
    "base_estimator_opt=dict(regr_br.best_estimator_.get_params(deep=False).items())['base_estimator']\n",
    "\n",
    "rmsle_br_opt=math.sqrt(abs(best_score))\n",
    "\n",
    "print(\"Scaled, BR (nb_trees=%.2e), (max_features=%.3f), (max_samples=%.3f), (base_estimator=%.3s): rmsle = %.3f\" % (n_trees_opt, \n",
    "                                                max_features_opt,\n",
    "                                                max_samples_opt,\n",
    "                                                base_estimator_opt,                                                                    \n",
    "                                                rmsle_br_opt))\n",
    "regr_br_opt=regr_br.best_estimator_\n"
   ]
  },
  {
   "cell_type": "markdown",
   "metadata": {},
   "source": [
    "I have to say that I was surprised when I got better results than the random forest with the bagging trees. Probably it's due to the use of an SVM as a base estimator."
   ]
  },
  {
   "cell_type": "markdown",
   "metadata": {},
   "source": [
    "I found an interesting model on the literatture called <b>Multivariate Adaptive Regression Splines</b> also known as <b>MARS</b> an approach that seems adapted to regression problems. MARS model, implemented by the Earth class, is a flexible regression method that automatically searches for interactions and non-linear relationships using hinge functions. Let's try it here."
   ]
  },
  {
   "cell_type": "markdown",
   "metadata": {},
   "source": [
    "Since it is not implement in scilit learn, the first step is to install the py-earth library."
   ]
  },
  {
   "cell_type": "code",
   "execution_count": 61,
   "metadata": {},
   "outputs": [
    {
     "name": "stdout",
     "output_type": "stream",
     "text": [
      "Defaulting to user installation because normal site-packages is not writeable\n",
      "Requirement already satisfied: sklearn-contrib-py-earth in /home/jupyter-nezar.lheimeur/.local/lib/python3.6/site-packages (0.1.0)\n",
      "Requirement already satisfied: six in /opt/tljh/user/lib/python3.6/site-packages (from sklearn-contrib-py-earth) (1.15.0)\n",
      "Requirement already satisfied: scikit-learn>=0.16 in /opt/tljh/user/lib/python3.6/site-packages (from sklearn-contrib-py-earth) (0.21.3)\n",
      "Requirement already satisfied: scipy>=0.16 in /opt/tljh/user/lib/python3.6/site-packages (from sklearn-contrib-py-earth) (1.3.1)\n",
      "Requirement already satisfied: numpy>=1.11.0 in /opt/tljh/user/lib/python3.6/site-packages (from scikit-learn>=0.16->sklearn-contrib-py-earth) (1.19.4)\n",
      "Requirement already satisfied: joblib>=0.11 in /opt/tljh/user/lib/python3.6/site-packages (from scikit-learn>=0.16->sklearn-contrib-py-earth) (0.14.0)\n",
      "Note: you may need to restart the kernel to use updated packages.\n"
     ]
    }
   ],
   "source": [
    "pip install sklearn-contrib-py-earth"
   ]
  },
  {
   "cell_type": "markdown",
   "metadata": {},
   "source": [
    "Once installed, we can load the library and print the version in a Python script to confirm it was installed correctly."
   ]
  },
  {
   "cell_type": "code",
   "execution_count": 62,
   "metadata": {},
   "outputs": [
    {
     "name": "stdout",
     "output_type": "stream",
     "text": [
      "0.1.0\n"
     ]
    }
   ],
   "source": [
    "# check pyearth version\n",
    "import pyearth\n",
    "# display version\n",
    "print(pyearth.__version__)"
   ]
  },
  {
   "cell_type": "markdown",
   "metadata": {},
   "source": [
    "A MARS model can be created with default model hyperparameters by creating an instance of the Earth class."
   ]
  },
  {
   "cell_type": "code",
   "execution_count": 63,
   "metadata": {},
   "outputs": [],
   "source": [
    "from pyearth import Earth\n",
    "# define the model\n",
    "model_mars = Earth()"
   ]
  },
  {
   "cell_type": "markdown",
   "metadata": {},
   "source": [
    "Unfortunatly here this model give us <b>negative values for the prediction</b> so we cannot cross validate it using <b>the mean squared log error</b> as an evaluation metric since the log function only accept positive values. So we need to to use the absolute values of the prediction to compute the rmsle. To do so we need to generate a new scoring function as shown bellow."
   ]
  },
  {
   "cell_type": "code",
   "execution_count": 64,
   "metadata": {},
   "outputs": [],
   "source": [
    "def custom_rmsle_error(y_true, y_pred):\n",
    "    return mean_squared_log_error(y_true, abs(y_pred))"
   ]
  },
  {
   "cell_type": "code",
   "execution_count": 65,
   "metadata": {},
   "outputs": [
    {
     "name": "stderr",
     "output_type": "stream",
     "text": [
      "/opt/tljh/user/lib/python3.6/site-packages/sklearn/model_selection/_split.py:657: Warning: The least populated class in y has only 1 members, which is too few. The minimum number of members in any class cannot be less than n_splits=5.\n",
      "  % (min_groups, self.n_splits)), Warning)\n"
     ]
    }
   ],
   "source": [
    "#evaluation of the model\n",
    "score = cross_val_score(model_mars, training_data_std, y_tr, scoring=make_scorer(custom_rmsle_error, greater_is_better=False), cv=folds_regr, n_jobs=-1)"
   ]
  },
  {
   "cell_type": "code",
   "execution_count": 66,
   "metadata": {},
   "outputs": [
    {
     "name": "stdout",
     "output_type": "stream",
     "text": [
      "1.0546180920504296\n"
     ]
    }
   ],
   "source": [
    "#rmsle score of the model\n",
    "rmsle_mars=math.sqrt(abs(np.average(score)))\n",
    "\n",
    "print(rmsle_mars)"
   ]
  },
  {
   "cell_type": "markdown",
   "metadata": {},
   "source": [
    "I tried to tune it's hyperparameters using a gridSearch but the computational time explose when we try a higher degree than 1. after 30min of waiting to generate a model with max_term=100 and max_degree=2 I got lower result than the simpliest model max_term=50 and max_degree=1. Lack of time and patience I assumed that the best parameters here are for max_degree=1 and max_term=50"
   ]
  },
  {
   "cell_type": "markdown",
   "metadata": {},
   "source": [
    "For last i'll try the <b>gradient Boosting algorithm</b>. Since it also generate negative predective values we will use the customise scoring function we used for <b>MARS</b>."
   ]
  },
  {
   "cell_type": "code",
   "execution_count": 67,
   "metadata": {},
   "outputs": [],
   "source": [
    "#initialize the model\n",
    "regr_gb = GradientBoostingRegressor(random_state=0)"
   ]
  },
  {
   "cell_type": "code",
   "execution_count": 68,
   "metadata": {},
   "outputs": [
    {
     "name": "stderr",
     "output_type": "stream",
     "text": [
      "/opt/tljh/user/lib/python3.6/site-packages/sklearn/model_selection/_split.py:657: Warning: The least populated class in y has only 1 members, which is too few. The minimum number of members in any class cannot be less than n_splits=5.\n",
      "  % (min_groups, self.n_splits)), Warning)\n"
     ]
    }
   ],
   "source": [
    "# compute the score \n",
    "score = cross_val_score(regr_gb, training_data_std, y_tr, scoring=make_scorer(custom_rmsle_error, greater_is_better=False), cv=folds_regr, n_jobs=-1)"
   ]
  },
  {
   "cell_type": "code",
   "execution_count": 69,
   "metadata": {},
   "outputs": [
    {
     "name": "stdout",
     "output_type": "stream",
     "text": [
      "1.043556608256238\n"
     ]
    }
   ],
   "source": [
    "#rmsle score of the model\n",
    "rmsle_gb=math.sqrt(abs(np.average(score)))\n",
    "\n",
    "print(rmsle_gb)"
   ]
  },
  {
   "cell_type": "markdown",
   "metadata": {},
   "source": [
    "We runned first the the alfgorithm with the default value and we got a bad score. let's see if we can do better with the hyperparameters tuning. "
   ]
  },
  {
   "cell_type": "code",
   "execution_count": 70,
   "metadata": {},
   "outputs": [
    {
     "data": {
      "text/plain": [
       "<bound method BaseEstimator.get_params of GradientBoostingRegressor(alpha=0.9, criterion='friedman_mse', init=None,\n",
       "                          learning_rate=0.1, loss='ls', max_depth=3,\n",
       "                          max_features=None, max_leaf_nodes=None,\n",
       "                          min_impurity_decrease=0.0, min_impurity_split=None,\n",
       "                          min_samples_leaf=1, min_samples_split=2,\n",
       "                          min_weight_fraction_leaf=0.0, n_estimators=100,\n",
       "                          n_iter_no_change=None, presort='auto', random_state=0,\n",
       "                          subsample=1.0, tol=0.0001, validation_fraction=0.1,\n",
       "                          verbose=0, warm_start=False)>"
      ]
     },
     "execution_count": 70,
     "metadata": {},
     "output_type": "execute_result"
    }
   ],
   "source": [
    "regr_gb.get_params"
   ]
  },
  {
   "cell_type": "code",
   "execution_count": 71,
   "metadata": {},
   "outputs": [
    {
     "name": "stderr",
     "output_type": "stream",
     "text": [
      "/opt/tljh/user/lib/python3.6/site-packages/sklearn/model_selection/_split.py:657: Warning: The least populated class in y has only 1 members, which is too few. The minimum number of members in any class cannot be less than n_splits=5.\n",
      "  % (min_groups, self.n_splits)), Warning)\n",
      "/opt/tljh/user/lib/python3.6/site-packages/sklearn/model_selection/_search.py:814: DeprecationWarning: The default of the `iid` parameter will change from True to False in version 0.22 and will be removed in 0.24. This will change numeric results when test-set sizes are unequal.\n",
      "  DeprecationWarning)\n"
     ]
    },
    {
     "data": {
      "text/plain": [
       "GridSearchCV(cv=StratifiedKFold(n_splits=5, random_state=None, shuffle=True),\n",
       "             error_score='raise-deprecating',\n",
       "             estimator=GradientBoostingRegressor(alpha=0.9,\n",
       "                                                 criterion='friedman_mse',\n",
       "                                                 init=None, learning_rate=0.1,\n",
       "                                                 loss='ls', max_depth=3,\n",
       "                                                 max_features=None,\n",
       "                                                 max_leaf_nodes=None,\n",
       "                                                 min_impurity_decrease=0.0,\n",
       "                                                 min_impurity_split=None,\n",
       "                                                 min_samples_leaf=1,\n",
       "                                                 min_samples_spl...\n",
       "                                                 verbose=0, warm_start=False),\n",
       "             iid='warn', n_jobs=-1,\n",
       "             param_grid={'learning_rate': [0.15], 'max_depth': [2],\n",
       "                         'max_features': [0.1], 'min_samples_leaf': [5],\n",
       "                         'min_weight_fraction_leaf': [0], 'n_estimators': [700],\n",
       "                         'subsample': [0.001]},\n",
       "             pre_dispatch='2*n_jobs', refit=True, return_train_score=False,\n",
       "             scoring=make_scorer(custom_rmsle_error, greater_is_better=False),\n",
       "             verbose=0)"
      ]
     },
     "execution_count": 71,
     "metadata": {},
     "output_type": "execute_result"
    }
   ],
   "source": [
    "# Number of trees to use\n",
    "list_n_trees = [100, 300, 500, 700, 900, 1000] \n",
    "max_features =[0.1, 0.3, 0.5, 0.7]\n",
    "min_samples_leaf=[1, 2, 5, 10]\n",
    "max_depth=[2, 3, 4]\n",
    "subsample= [0.001, 0.01, 0.1]\n",
    "min_weight_fraction_leaf=[0, 0.1, 0.15, 0.2]\n",
    "learning_rate=[ 0.01, 0.05 ,0.1, 0.15]\n",
    "\n",
    "# Define the grid of parameters to test\n",
    "param_grid ={'n_estimators': list_n_trees, 'max_features':max_features, 'min_samples_leaf':min_samples_leaf, 'max_depth':max_depth, 'subsample': subsample, 'min_weight_fraction_leaf': min_weight_fraction_leaf, 'learning_rate': learning_rate}\n",
    "\n",
    "# Initialize a GridSearchCV object that will be used to cross-validate\n",
    "# a bagging trees with these parameters.\n",
    "regr_gb = GridSearchCV(GradientBoostingRegressor(random_state=0), \n",
    "                                    param_grid=param_grid,\n",
    "                                    scoring=make_scorer(custom_rmsle_error, greater_is_better=False),\n",
    "                                    cv=folds_regr,\n",
    "                                    n_jobs=-1)\n",
    "\n",
    "# run the cross validation using train dataset\n",
    "regr_gb.fit(training_data_std, y_tr)"
   ]
  },
  {
   "cell_type": "code",
   "execution_count": 72,
   "metadata": {},
   "outputs": [
    {
     "name": "stdout",
     "output_type": "stream",
     "text": [
      "Scaled, GB (nb_trees=7.00e+02), (max_features=0.100), (min_samples_leaf_opt=5.000), (max_depth_opt=2.000), (subsample_opt=0.001000), (min_weight_fraction_leaf=0.000000), (learning_rate=0.150) : rmsle = 1.251\n"
     ]
    }
   ],
   "source": [
    "# get mean scores of the best model\n",
    "best_score=regr_gb.best_score_\n",
    "\n",
    "# optimal value of C\n",
    "n_trees_opt = dict(regr_gb.best_estimator_.get_params(deep=False).items())['n_estimators']\n",
    "max_features_opt = dict(regr_gb.best_estimator_.get_params(deep=False).items())['max_features']\n",
    "min_samples_leaf_opt = dict(regr_gb.best_estimator_.get_params(deep=False).items())['min_samples_leaf']\n",
    "max_depth_opt=dict(regr_gb.best_estimator_.get_params(deep=False).items())['max_depth']\n",
    "subsample_opt=dict(regr_gb.best_estimator_.get_params(deep=False).items())['subsample']\n",
    "min_weight_fraction_leaf_opt=dict(regr_gb.best_estimator_.get_params(deep=False).items())['min_weight_fraction_leaf']\n",
    "learning_rate_opt=dict(regr_gb.best_estimator_.get_params(deep=False).items())['learning_rate']\n",
    "\n",
    "\n",
    "\n",
    "rmsle_gb_opt=math.sqrt(abs(best_score))\n",
    "\n",
    "print(\"Scaled, GB (nb_trees=%.2e), (max_features=%.3f), (min_samples_leaf_opt=%.3f), (max_depth_opt=%.3f), (subsample_opt=%f), (min_weight_fraction_leaf=%f), (learning_rate=%.3f) : rmsle = %.3f\" % \n",
    "                                                (n_trees_opt, \n",
    "                                                max_features_opt,\n",
    "                                                min_samples_leaf_opt,\n",
    "                                                max_depth_opt,\n",
    "                                                subsample_opt,\n",
    "                                                min_weight_fraction_leaf_opt,\n",
    "                                                learning_rate_opt,\n",
    "                                                rmsle_gb_opt))\n",
    "regr_gb_opt=regr_gb.best_estimator_\n"
   ]
  },
  {
   "cell_type": "markdown",
   "metadata": {},
   "source": [
    "We' ve got a slightly better result but nothing special. "
   ]
  },
  {
   "cell_type": "markdown",
   "metadata": {},
   "source": [
    "Let's resume our result in a dataframe shown below."
   ]
  },
  {
   "cell_type": "code",
   "execution_count": 73,
   "metadata": {},
   "outputs": [
    {
     "data": {
      "text/html": [
       "<div>\n",
       "<style scoped>\n",
       "    .dataframe tbody tr th:only-of-type {\n",
       "        vertical-align: middle;\n",
       "    }\n",
       "\n",
       "    .dataframe tbody tr th {\n",
       "        vertical-align: top;\n",
       "    }\n",
       "\n",
       "    .dataframe thead th {\n",
       "        text-align: right;\n",
       "    }\n",
       "</style>\n",
       "<table border=\"1\" class=\"dataframe\">\n",
       "  <thead>\n",
       "    <tr style=\"text-align: right;\">\n",
       "      <th></th>\n",
       "      <th>model</th>\n",
       "      <th>Parameters</th>\n",
       "      <th>RMSLE</th>\n",
       "    </tr>\n",
       "  </thead>\n",
       "  <tbody>\n",
       "    <tr>\n",
       "      <th>0</th>\n",
       "      <td>Ridge logistic reg</td>\n",
       "      <td>{'C': 0.06158482110660261}</td>\n",
       "      <td>0.965266</td>\n",
       "    </tr>\n",
       "    <tr>\n",
       "      <th>1</th>\n",
       "      <td>SVM-rbf</td>\n",
       "      <td>{'C': 1000.0, 'gamma': 0.01, 'epsilon': 10.0}</td>\n",
       "      <td>0.880945</td>\n",
       "    </tr>\n",
       "    <tr>\n",
       "      <th>2</th>\n",
       "      <td>SVM-linear</td>\n",
       "      <td>{'C': 1000.0, 'epsilon': 10.0}</td>\n",
       "      <td>0.895285</td>\n",
       "    </tr>\n",
       "    <tr>\n",
       "      <th>3</th>\n",
       "      <td>Random Forest</td>\n",
       "      <td>{'max_features': 0.8, 'n_estimators': 800, 'mi...</td>\n",
       "      <td>1.016605</td>\n",
       "    </tr>\n",
       "    <tr>\n",
       "      <th>4</th>\n",
       "      <td>Bagging</td>\n",
       "      <td>{'base_estimator': SVR(C=1.0, cache_size=200, ...</td>\n",
       "      <td>0.933091</td>\n",
       "    </tr>\n",
       "    <tr>\n",
       "      <th>5</th>\n",
       "      <td>MARS</td>\n",
       "      <td>{'max_degree': [None, 'default: 1'], 'max_term...</td>\n",
       "      <td>1.054618</td>\n",
       "    </tr>\n",
       "    <tr>\n",
       "      <th>6</th>\n",
       "      <td>Gradient Boosting</td>\n",
       "      <td>{'n_estimators': 700, 'max_features': 0.1, 'mi...</td>\n",
       "      <td>1.250970</td>\n",
       "    </tr>\n",
       "  </tbody>\n",
       "</table>\n",
       "</div>"
      ],
      "text/plain": [
       "                model                                         Parameters  \\\n",
       "0  Ridge logistic reg                         {'C': 0.06158482110660261}   \n",
       "1             SVM-rbf      {'C': 1000.0, 'gamma': 0.01, 'epsilon': 10.0}   \n",
       "2          SVM-linear                     {'C': 1000.0, 'epsilon': 10.0}   \n",
       "3       Random Forest  {'max_features': 0.8, 'n_estimators': 800, 'mi...   \n",
       "4             Bagging  {'base_estimator': SVR(C=1.0, cache_size=200, ...   \n",
       "5                MARS  {'max_degree': [None, 'default: 1'], 'max_term...   \n",
       "6   Gradient Boosting  {'n_estimators': 700, 'max_features': 0.1, 'mi...   \n",
       "\n",
       "      RMSLE  \n",
       "0  0.965266  \n",
       "1  0.880945  \n",
       "2  0.895285  \n",
       "3  1.016605  \n",
       "4  0.933091  \n",
       "5  1.054618  \n",
       "6  1.250970  "
      ]
     },
     "execution_count": 73,
     "metadata": {},
     "output_type": "execute_result"
    }
   ],
   "source": [
    "data = [['Ridge logistic reg',{'C': logreg_l2_opt.get_params(deep=False)['C']}, rmsle_logreg_l2_opt],\n",
    "        ['SVM-rbf',{'C': regr_svr_rbf_opt.get_params(deep=False)['C'], 'gamma': regr_svr_rbf_opt.get_params(deep=False)['gamma'], 'epsilon': regr_svr_rbf_opt.get_params(deep=False)['epsilon'] }, rmsle_svr_rbf_opt],\n",
    "        ['SVM-linear',{'C': regr_svr_lin_opt.get_params(deep=False)['C'], 'epsilon': regr_svr_lin_opt.get_params(deep=False)['epsilon']}, rmsle_svr_lin_opt],\n",
    "        ['Random Forest',{'max_features': regr_rf_opt.get_params(deep=False)['max_features'], 'n_estimators': regr_rf_opt.get_params(deep=False)['n_estimators'], 'min_samples_leaf': regr_rf_opt.get_params(deep=False)['min_samples_leaf'] }, rmsle_rf_opt],\n",
    "        ['Bagging',{'base_estimator': regr_br_opt.get_params(deep=False)['base_estimator'], 'max_features': regr_br_opt.get_params(deep=False)['max_features'], 'n_estimators': regr_br_opt.get_params(deep=False)['n_estimators'], 'max_samples': regr_br_opt.get_params(deep=False)['max_samples'] }, rmsle_br_opt],\n",
    "        ['MARS', {'max_degree': [model_mars.get_params(deep=False)['max_degree'] ,\"default: 1\"] , 'max_terms': [model_mars.get_params(deep=False)['max_terms'], \"default: min(2 * nb_features + nb_rows // 10, 400)\"]}, rmsle_mars ],\n",
    "        ['Gradient Boosting',{'n_estimators': regr_gb_opt.get_params(deep=False)['n_estimators'], 'max_features': regr_gb_opt.get_params(deep=False)['max_features'], 'min_samples_leaf': regr_gb_opt.get_params(deep=False)['min_samples_leaf'],  'max_depth': regr_gb_opt.get_params(deep=False)['max_depth'], 'subsample': regr_gb_opt.get_params(deep=False)['subsample'], 'min_weight_fraction_leaf': regr_gb_opt.get_params(deep=False)['min_weight_fraction_leaf'], 'learning_rate': regr_gb_opt.get_params(deep=False)['learning_rate']}, rmsle_gb_opt]]\n",
    "df = pd.DataFrame(data,columns=['model','Parameters', 'RMSLE'])\n",
    "df\n"
   ]
  },
  {
   "cell_type": "markdown",
   "metadata": {},
   "source": [
    "## Dimensionality Reduction"
   ]
  },
  {
   "cell_type": "markdown",
   "metadata": {},
   "source": [
    "In this section we will apply a <b>PCA</b> to our data to reduce their dimensionality and rerun to most accurate of our above models. "
   ]
  },
  {
   "cell_type": "code",
   "execution_count": 74,
   "metadata": {},
   "outputs": [
    {
     "data": {
      "text/plain": [
       "32"
      ]
     },
     "execution_count": 74,
     "metadata": {},
     "output_type": "execute_result"
    }
   ],
   "source": [
    "from sklearn import decomposition\n",
    "\n",
    "#compute our PCA and fit it to the scaled data\n",
    "pca = decomposition.PCA(n_components=0.95)\n",
    "pca.fit(training_data_std)\n",
    "\n",
    "pca.n_components_"
   ]
  },
  {
   "cell_type": "markdown",
   "metadata": {},
   "source": [
    "We have selected the components that explain <b>95% of the variance</b> (i.e informations). let's visualize how much variance each of them hold. "
   ]
  },
  {
   "cell_type": "code",
   "execution_count": 75,
   "metadata": {},
   "outputs": [
    {
     "data": {
      "text/plain": [
       "Text(0, 0.5, 'Fraction of variance explained')"
      ]
     },
     "execution_count": 75,
     "metadata": {},
     "output_type": "execute_result"
    },
    {
     "data": {
      "image/png": "[encoded data removed]",
      "text/plain": [
       "<Figure size 432x288 with 1 Axes>"
      ]
     },
     "metadata": {
      "needs_background": "light"
     },
     "output_type": "display_data"
    }
   ],
   "source": [
    "plt.bar(np.arange(32), pca.explained_variance_ratio_)\n",
    "plt.xlim([-1, 32])\n",
    "plt.xlabel(\"Number of PCs\", fontsize=16)\n",
    "plt.ylabel(\"Fraction of variance explained\", fontsize=16)"
   ]
  },
  {
   "cell_type": "markdown",
   "metadata": {},
   "source": [
    "let's project our data in these Principal components "
   ]
  },
  {
   "cell_type": "code",
   "execution_count": 76,
   "metadata": {},
   "outputs": [],
   "source": [
    "X_train_projected = pca.transform(training_data_std)\n",
    "X_test_projected = pca.transform(test_data_std)"
   ]
  },
  {
   "cell_type": "markdown",
   "metadata": {},
   "source": [
    "Now let's train again our best previous model on our reduced dimensions."
   ]
  },
  {
   "cell_type": "markdown",
   "metadata": {},
   "source": [
    "let's start with the <b>ridge regressor</b>"
   ]
  },
  {
   "cell_type": "code",
   "execution_count": 77,
   "metadata": {},
   "outputs": [
    {
     "name": "stderr",
     "output_type": "stream",
     "text": [
      "/opt/tljh/user/lib/python3.6/site-packages/sklearn/model_selection/_split.py:657: Warning: The least populated class in y has only 1 members, which is too few. The minimum number of members in any class cannot be less than n_splits=5.\n",
      "  % (min_groups, self.n_splits)), Warning)\n"
     ]
    }
   ],
   "source": [
    "# Initialize a LogisticRegression model. saga:5min 0.8 default:10min 0.9, lbfgs: 30sec 0.44\n",
    "logreg_l2_pca = linear_model.LogisticRegression(random_state=0, penalty=\"l2\", solver=\"lbfgs\")\n",
    "\n",
    "\n",
    "#cross validate the model\n",
    "score=cross_val_score(logreg_l2_pca, X_train_projected, y_tr, scoring=\"neg_mean_squared_log_error\", cv=folds_regr, n_jobs=-1)"
   ]
  },
  {
   "cell_type": "code",
   "execution_count": 78,
   "metadata": {},
   "outputs": [
    {
     "name": "stdout",
     "output_type": "stream",
     "text": [
      "1.1121792724393915\n"
     ]
    }
   ],
   "source": [
    "#rmsle score of the model\n",
    "rmsle_logreg_l2_pca=math.sqrt(abs(np.average(score)))\n",
    "\n",
    "print(rmsle_logreg_l2_pca)"
   ]
  },
  {
   "cell_type": "markdown",
   "metadata": {},
   "source": [
    "as shown above their two score are quite similar. To have a better model we will try to thune the hyperparameters of our ridge regression. "
   ]
  },
  {
   "cell_type": "markdown",
   "metadata": {},
   "source": [
    "For that we will use a <b>grid Search cross validation</b> to try different combination of hyperparameters and evaluate their performane. Then we will select the best model."
   ]
  },
  {
   "cell_type": "markdown",
   "metadata": {},
   "source": [
    "Now let's select the best hyperparam <b>'C'</b> (i.e the regularization coef) for the <b>ridge logistic regression</b>."
   ]
  },
  {
   "cell_type": "code",
   "execution_count": 79,
   "metadata": {},
   "outputs": [
    {
     "name": "stdout",
     "output_type": "stream",
     "text": [
      "[1.00000000e-05 2.06913808e-05 4.28133240e-05 8.85866790e-05\n",
      " 1.83298071e-04 3.79269019e-04 7.84759970e-04 1.62377674e-03\n",
      " 3.35981829e-03 6.95192796e-03 1.43844989e-02 2.97635144e-02\n",
      " 6.15848211e-02 1.27427499e-01 2.63665090e-01 5.45559478e-01\n",
      " 1.12883789e+00 2.33572147e+00 4.83293024e+00 1.00000000e+01]\n"
     ]
    }
   ],
   "source": [
    "# Create a range of values to test for the parameter C\n",
    "cvalues_list = np.logspace(-5, 1, 20)\n",
    "print(cvalues_list)"
   ]
  },
  {
   "cell_type": "code",
   "execution_count": 80,
   "metadata": {},
   "outputs": [
    {
     "name": "stderr",
     "output_type": "stream",
     "text": [
      "/opt/tljh/user/lib/python3.6/site-packages/sklearn/model_selection/_split.py:657: Warning: The least populated class in y has only 1 members, which is too few. The minimum number of members in any class cannot be less than n_splits=5.\n",
      "  % (min_groups, self.n_splits)), Warning)\n",
      "/opt/tljh/user/lib/python3.6/site-packages/sklearn/model_selection/_search.py:814: DeprecationWarning: The default of the `iid` parameter will change from True to False in version 0.22 and will be removed in 0.24. This will change numeric results when test-set sizes are unequal.\n",
      "  DeprecationWarning)\n"
     ]
    },
    {
     "data": {
      "text/plain": [
       "GridSearchCV(cv=StratifiedKFold(n_splits=5, random_state=None, shuffle=True),\n",
       "             error_score='raise-deprecating',\n",
       "             estimator=LogisticRegression(C=1.0, class_weight=None, dual=False,\n",
       "                                          fit_intercept=True,\n",
       "                                          intercept_scaling=1, l1_ratio=None,\n",
       "                                          max_iter=100, multi_class='warn',\n",
       "                                          n_jobs=None, penalty='l2',\n",
       "                                          random_state=None, solver='lbfgs',\n",
       "                                          tol=0.0001, verbose=0,\n",
       "                                          warm_start=Fals...\n",
       "       1.83298071e-04, 3.79269019e-04, 7.84759970e-04, 1.62377674e-03,\n",
       "       3.35981829e-03, 6.95192796e-03, 1.43844989e-02, 2.97635144e-02,\n",
       "       6.15848211e-02, 1.27427499e-01, 2.63665090e-01, 5.45559478e-01,\n",
       "       1.12883789e+00, 2.33572147e+00, 4.83293024e+00, 1.00000000e+01])},\n",
       "             pre_dispatch='2*n_jobs', refit=True, return_train_score=False,\n",
       "             scoring='neg_mean_squared_log_error', verbose=0)"
      ]
     },
     "execution_count": 80,
     "metadata": {},
     "output_type": "execute_result"
    }
   ],
   "source": [
    "# Optimize cvalue\n",
    "classifier = linear_model.LogisticRegression(penalty='l2', solver=\"lbfgs\")\n",
    "param_grid = {'C': cvalues_list\n",
    "             }\n",
    "reg_l2_opt_pca = GridSearchCV(classifier, \n",
    "                                param_grid, \n",
    "                                cv=folds_regr,\n",
    "                                scoring=\"neg_mean_squared_log_error\",\n",
    "                                n_jobs=-1)     \n",
    "reg_l2_opt_pca.fit(X_train_projected, y_tr)"
   ]
  },
  {
   "cell_type": "code",
   "execution_count": 81,
   "metadata": {},
   "outputs": [
    {
     "name": "stdout",
     "output_type": "stream",
     "text": [
      "best_score  -0.9289863491575551\n",
      "Scaled, l2 regularization (C=6.16e-02): rmsle = 0.964\n"
     ]
    }
   ],
   "source": [
    "# get mean scores of the best model\n",
    "best_score=reg_l2_opt_pca.best_score_\n",
    "print(\"best_score \", best_score)\n",
    "# optimal value of C\n",
    "cvalue_opt = dict(reg_l2_opt_pca.best_estimator_.get_params(deep=False).items())['C']\n",
    "rmsle_logreg_l2_opt_pca=math.sqrt(abs(best_score))\n",
    "\n",
    "print(\"Scaled, l2 regularization (C=%.2e): rmsle = %.3f\" % (cvalue_opt, \n",
    "                                                               rmsle_logreg_l2_opt_pca))\n",
    "\n",
    "logreg_l2_opt_pca=reg_l2_opt_pca.best_estimator_"
   ]
  },
  {
   "cell_type": "markdown",
   "metadata": {},
   "source": [
    "As expected the score is slightly better now, but let's see if we can find a better model. For this we will try some non parametric model."
   ]
  },
  {
   "cell_type": "markdown",
   "metadata": {},
   "source": [
    "first let's try the <b>SVM</b> (support vector Machine) with a <b>Radial Basis Function</b> (RBF) kernel. Since it's a regression problem we will use the fonction SVR(support vector regression) instead of SVC(support vector classification)"
   ]
  },
  {
   "cell_type": "markdown",
   "metadata": {},
   "source": [
    "Here we just try the model with random or default hyperparameters to see how it behave. We will thune them later with a search grid cross validation."
   ]
  },
  {
   "cell_type": "code",
   "execution_count": 82,
   "metadata": {},
   "outputs": [
    {
     "name": "stderr",
     "output_type": "stream",
     "text": [
      "/opt/tljh/user/lib/python3.6/site-packages/sklearn/model_selection/_split.py:657: Warning: The least populated class in y has only 1 members, which is too few. The minimum number of members in any class cannot be less than n_splits=5.\n",
      "  % (min_groups, self.n_splits)), Warning)\n"
     ]
    }
   ],
   "source": [
    "svr_pca=SVR(C=1.0, kernel=\"rbf\", gamma=1e-2)\n",
    "\n",
    "#cross validate the model\n",
    "score=cross_val_score(svr_pca, X_train_projected, y_tr, scoring=\"neg_mean_squared_log_error\", cv=folds_regr, n_jobs=-1)"
   ]
  },
  {
   "cell_type": "code",
   "execution_count": 83,
   "metadata": {},
   "outputs": [
    {
     "name": "stdout",
     "output_type": "stream",
     "text": [
      "0.9346015447653586\n"
     ]
    }
   ],
   "source": [
    "#rmsle score of the model\n",
    "rmsle_svr_pca=math.sqrt(abs(np.average(score)))\n",
    "\n",
    "print(rmsle_svr_pca)"
   ]
  },
  {
   "cell_type": "markdown",
   "metadata": {},
   "source": [
    "As shown in the score above, even if the hyperparameters are choosen randomly, the score is better that the ridge regression which is a good indicator. Let's see if we can do better."
   ]
  },
  {
   "cell_type": "code",
   "execution_count": 84,
   "metadata": {},
   "outputs": [],
   "source": [
    "# choisir 6 valeurs pour C, entre 1e-2 et 1e3\n",
    "C_range = np.logspace(-2, 3, 6)\n",
    "\n",
    "# choisir 5 valeurs pour gamma, entre 1e-3 et 10\n",
    "gamma_range = np.logspace(-3, 1, 6)\n",
    "\n",
    "# choisir 6 valeurs pour epsilon, entre 1e-3 et 100\n",
    "epsilon_range = np.logspace(-3, 2, 6)\n",
    "\n",
    "# grille de paramètres\n",
    "parameters = {'C': C_range, 'gamma': gamma_range, 'epsilon':epsilon_range}\n"
   ]
  },
  {
   "cell_type": "code",
   "execution_count": 85,
   "metadata": {},
   "outputs": [
    {
     "name": "stderr",
     "output_type": "stream",
     "text": [
      "/opt/tljh/user/lib/python3.6/site-packages/sklearn/model_selection/_split.py:657: Warning: The least populated class in y has only 1 members, which is too few. The minimum number of members in any class cannot be less than n_splits=5.\n",
      "  % (min_groups, self.n_splits)), Warning)\n",
      "/opt/tljh/user/lib/python3.6/site-packages/sklearn/model_selection/_search.py:814: DeprecationWarning: The default of the `iid` parameter will change from True to False in version 0.22 and will be removed in 0.24. This will change numeric results when test-set sizes are unequal.\n",
      "  DeprecationWarning)\n"
     ]
    },
    {
     "data": {
      "text/plain": [
       "GridSearchCV(cv=StratifiedKFold(n_splits=5, random_state=None, shuffle=True),\n",
       "             error_score='raise-deprecating',\n",
       "             estimator=SVR(C=1.0, cache_size=200, coef0=0.0, degree=3,\n",
       "                           epsilon=0.1, gamma='auto_deprecated', kernel='rbf',\n",
       "                           max_iter=-1, shrinking=True, tol=0.001,\n",
       "                           verbose=False),\n",
       "             iid='warn', n_jobs=-1,\n",
       "             param_grid={'C': array([1.e-02, 1.e-01, 1.e+00, 1.e+01, 1.e+02, 1.e+03]),\n",
       "                         'epsilon': array([1.e-03, 1.e-02, 1.e-01, 1.e+00, 1.e+01, 1.e+02]),\n",
       "                         'gamma': array([1.00000000e-03, 6.30957344e-03, 3.98107171e-02, 2.51188643e-01,\n",
       "       1.58489319e+00, 1.00000000e+01])},\n",
       "             pre_dispatch='2*n_jobs', refit=True, return_train_score=False,\n",
       "             scoring='neg_mean_squared_log_error', verbose=0)"
      ]
     },
     "execution_count": 85,
     "metadata": {},
     "output_type": "execute_result"
    }
   ],
   "source": [
    "# initialize a model\n",
    "svr_rbf_pca = SVR(kernel='rbf')\n",
    "\n",
    "# initialize cross validation\n",
    "clf = GridSearchCV(estimator=svr_rbf_pca, \n",
    "                   param_grid=parameters,\n",
    "                   cv=folds_regr,\n",
    "                   scoring=\"neg_mean_squared_log_error\",\n",
    "                   n_jobs=-1)\n",
    "\n",
    "# run the cross validation using train dataset\n",
    "clf.fit(X_train_projected, y_tr)"
   ]
  },
  {
   "cell_type": "code",
   "execution_count": 86,
   "metadata": {},
   "outputs": [
    {
     "name": "stdout",
     "output_type": "stream",
     "text": [
      "best_score  -0.7756685443332929\n",
      "Scaled reduced, SVM rbf kernel (C=1.00e+03), (gamma=0.040), (epsilon=100.000): rmsle = 0.881\n"
     ]
    }
   ],
   "source": [
    "# get mean scores of the best model\n",
    "best_score=clf.best_score_\n",
    "print(\"best_score \", best_score)\n",
    "# optimal value of C\n",
    "cvalue_opt = dict(clf.best_estimator_.get_params(deep=False).items())['C']\n",
    "gamma_opt = dict(clf.best_estimator_.get_params(deep=False).items())['gamma']\n",
    "epsilon_opt = dict(clf.best_estimator_.get_params(deep=False).items())['epsilon']\n",
    "rmsle_svr_rbf_opt_pca=math.sqrt(abs(best_score))\n",
    "\n",
    "print(\"Scaled reduced, SVM rbf kernel (C=%.2e), (gamma=%.3f), (epsilon=%.3f): rmsle = %.3f\" % (cvalue_opt, \n",
    "                                                gamma_opt,\n",
    "                                                epsilon_opt,\n",
    "                                                rmsle_svr_rbf_opt_pca))\n",
    "regr_svr_rbf_opt_pca=clf.best_estimator_"
   ]
  },
  {
   "cell_type": "markdown",
   "metadata": {},
   "source": [
    "Well as shown above the grid search allow us to select better hyperparameters for the model, we even reach a higher score than before. for now it's the best candidate we have "
   ]
  },
  {
   "cell_type": "markdown",
   "metadata": {},
   "source": [
    "let's continue here with the <b>SVM</b> with <b>linear kernel</b>"
   ]
  },
  {
   "cell_type": "code",
   "execution_count": 87,
   "metadata": {},
   "outputs": [
    {
     "name": "stderr",
     "output_type": "stream",
     "text": [
      "/opt/tljh/user/lib/python3.6/site-packages/sklearn/model_selection/_split.py:657: Warning: The least populated class in y has only 1 members, which is too few. The minimum number of members in any class cannot be less than n_splits=5.\n",
      "  % (min_groups, self.n_splits)), Warning)\n"
     ]
    }
   ],
   "source": [
    "#initialize a model\n",
    "svr_pca=SVR(C=1.0, kernel=\"linear\")\n",
    "\n",
    "#cross validate the model\n",
    "score=cross_val_score(svr_pca, X_train_projected, y_tr, scoring=\"neg_mean_squared_log_error\", cv=folds_regr, n_jobs=-1)"
   ]
  },
  {
   "cell_type": "code",
   "execution_count": 88,
   "metadata": {},
   "outputs": [
    {
     "name": "stdout",
     "output_type": "stream",
     "text": [
      "0.9035975537991217\n"
     ]
    }
   ],
   "source": [
    "#rmsle score of the model\n",
    "rmsle_svr_lin_pca=math.sqrt(abs(np.average(score)))\n",
    "\n",
    "print(rmsle_svr_lin_pca)"
   ]
  },
  {
   "cell_type": "markdown",
   "metadata": {},
   "source": [
    "The result is ok. Let's try to improve it by tuning <b>C</b> and <b>epsilon</b> with a grid search"
   ]
  },
  {
   "cell_type": "code",
   "execution_count": 89,
   "metadata": {},
   "outputs": [],
   "source": [
    "# choisir 10 valeurs pour C, entre 1e-2 et 1e3\n",
    "C_range = np.logspace(-2, 3, 10)\n",
    "\n",
    "# choisir 10 valeurs pour epsilon, entre 1e-2 et 10\n",
    "epsilon_range = np.logspace(-3, 1, 10)\n",
    "# grille de paramètres\n",
    "parameters = {'C': C_range, 'epsilon':epsilon_range}\n",
    "\n"
   ]
  },
  {
   "cell_type": "code",
   "execution_count": 90,
   "metadata": {},
   "outputs": [
    {
     "name": "stderr",
     "output_type": "stream",
     "text": [
      "/opt/tljh/user/lib/python3.6/site-packages/sklearn/model_selection/_split.py:657: Warning: The least populated class in y has only 1 members, which is too few. The minimum number of members in any class cannot be less than n_splits=5.\n",
      "  % (min_groups, self.n_splits)), Warning)\n",
      "/opt/tljh/user/lib/python3.6/site-packages/sklearn/model_selection/_search.py:814: DeprecationWarning: The default of the `iid` parameter will change from True to False in version 0.22 and will be removed in 0.24. This will change numeric results when test-set sizes are unequal.\n",
      "  DeprecationWarning)\n"
     ]
    },
    {
     "data": {
      "text/plain": [
       "GridSearchCV(cv=StratifiedKFold(n_splits=5, random_state=None, shuffle=True),\n",
       "             error_score='raise-deprecating',\n",
       "             estimator=SVR(C=1.0, cache_size=200, coef0=0.0, degree=3,\n",
       "                           epsilon=0.1, gamma='auto_deprecated',\n",
       "                           kernel='linear', max_iter=-1, shrinking=True,\n",
       "                           tol=0.001, verbose=False),\n",
       "             iid='warn', n_jobs=-1,\n",
       "             param_grid={'C': array([1.00000000e-02, 3.59381366e-02, 1.29154967e...\n",
       "       1.66810054e+00, 5.99484250e+00, 2.15443469e+01, 7.74263683e+01,\n",
       "       2.78255940e+02, 1.00000000e+03]),\n",
       "                         'epsilon': array([1.00000000e-03, 2.78255940e-03, 7.74263683e-03, 2.15443469e-02,\n",
       "       5.99484250e-02, 1.66810054e-01, 4.64158883e-01, 1.29154967e+00,\n",
       "       3.59381366e+00, 1.00000000e+01])},\n",
       "             pre_dispatch='2*n_jobs', refit=True, return_train_score=False,\n",
       "             scoring='neg_mean_squared_log_error', verbose=0)"
      ]
     },
     "execution_count": 90,
     "metadata": {},
     "output_type": "execute_result"
    }
   ],
   "source": [
    "# initialize a model\n",
    "svr_lin_pca = SVR(kernel='linear')\n",
    "\n",
    "# initialize cross validation\n",
    "clf = GridSearchCV(estimator=svr_lin_pca, \n",
    "                   param_grid=parameters,\n",
    "                   cv=folds_regr,\n",
    "                   scoring=\"neg_mean_squared_log_error\",\n",
    "                    n_jobs=-1)\n",
    "\n",
    "# run the cross validation using train dataset\n",
    "clf.fit(X_train_projected, y_tr)"
   ]
  },
  {
   "cell_type": "code",
   "execution_count": 91,
   "metadata": {},
   "outputs": [
    {
     "name": "stdout",
     "output_type": "stream",
     "text": [
      "Scaled reduced, SVM linear (C=1000.00), (epsilon=0.167) rmsle=0.8973\n"
     ]
    }
   ],
   "source": [
    "# get mean scores of the best model\n",
    "best_score=clf.best_score_\n",
    "\n",
    "# optimal value of C\n",
    "c_value_opt = dict(clf.best_estimator_.get_params(deep=False).items())['C']\n",
    "epsilon_opt=dict(clf.best_estimator_.get_params(deep=False).items())['epsilon']\n",
    "\n",
    "rmsle_svr_lin_opt_pca=math.sqrt(abs(best_score))\n",
    "\n",
    "print(\"Scaled reduced, SVM linear (C=%.2f), (epsilon=%.3f) rmsle=%.4f\" % (c_value_opt, \n",
    "                                                epsilon_opt,\n",
    "                                                rmsle_svr_lin_opt_pca))\n",
    "regr_svr_lin_opt_pca=clf.best_estimator_"
   ]
  },
  {
   "cell_type": "markdown",
   "metadata": {},
   "source": [
    "The result is again slightly different from the SVM with an <b>exponential kernel (rbf)</b>"
   ]
  },
  {
   "cell_type": "markdown",
   "metadata": {},
   "source": [
    "Let's continue our inspectation with the <b>random forest</b>"
   ]
  },
  {
   "cell_type": "code",
   "execution_count": 92,
   "metadata": {},
   "outputs": [
    {
     "name": "stderr",
     "output_type": "stream",
     "text": [
      "/opt/tljh/user/lib/python3.6/site-packages/sklearn/model_selection/_split.py:657: Warning: The least populated class in y has only 1 members, which is too few. The minimum number of members in any class cannot be less than n_splits=5.\n",
      "  % (min_groups, self.n_splits)), Warning)\n"
     ]
    }
   ],
   "source": [
    "# initialize a model\n",
    "rf=RandomForestRegressor(n_jobs=-1, n_estimators=80, max_features=0.5, min_samples_leaf=30 )\n",
    "\n",
    "#cross validate the model\n",
    "score=cross_val_score(rf, X_train_projected, y_tr, scoring=\"neg_mean_squared_log_error\", cv=folds_regr, n_jobs=-1)"
   ]
  },
  {
   "cell_type": "code",
   "execution_count": 93,
   "metadata": {},
   "outputs": [
    {
     "name": "stdout",
     "output_type": "stream",
     "text": [
      "1.0421383790530816\n"
     ]
    }
   ],
   "source": [
    "#rmsle score of the model\n",
    "rmsle_rf_pca=math.sqrt(abs(np.average(score)))\n",
    "\n",
    "print(rmsle_rf_pca)"
   ]
  },
  {
   "cell_type": "markdown",
   "metadata": {},
   "source": [
    "unfortunatly here the results are lower than expected. Let's try if we can do better by tuning the hyperparameters."
   ]
  },
  {
   "cell_type": "code",
   "execution_count": 94,
   "metadata": {},
   "outputs": [
    {
     "name": "stderr",
     "output_type": "stream",
     "text": [
      "/opt/tljh/user/lib/python3.6/site-packages/sklearn/model_selection/_split.py:657: Warning: The least populated class in y has only 1 members, which is too few. The minimum number of members in any class cannot be less than n_splits=5.\n",
      "  % (min_groups, self.n_splits)), Warning)\n",
      "/opt/tljh/user/lib/python3.6/site-packages/sklearn/model_selection/_search.py:814: DeprecationWarning: The default of the `iid` parameter will change from True to False in version 0.22 and will be removed in 0.24. This will change numeric results when test-set sizes are unequal.\n",
      "  DeprecationWarning)\n"
     ]
    },
    {
     "data": {
      "text/plain": [
       "GridSearchCV(cv=StratifiedKFold(n_splits=5, random_state=None, shuffle=True),\n",
       "             error_score='raise-deprecating',\n",
       "             estimator=RandomForestRegressor(bootstrap=True, criterion='mse',\n",
       "                                             max_depth=None,\n",
       "                                             max_features='auto',\n",
       "                                             max_leaf_nodes=None,\n",
       "                                             min_impurity_decrease=0.0,\n",
       "                                             min_impurity_split=None,\n",
       "                                             min_samples_leaf=1,\n",
       "                                             min_samples_split=2,\n",
       "                                             min_weight_fraction_leaf=0.0,\n",
       "                                             n_estimators='warn', n_jobs=-1,\n",
       "                                             oob_score=False, random_state=None,\n",
       "                                             verbose=0, warm_start=False),\n",
       "             iid='warn', n_jobs=-1,\n",
       "             param_grid={'max_features': [0.5], 'min_samples_leaf': [30],\n",
       "                         'n_estimators': [800]},\n",
       "             pre_dispatch='2*n_jobs', refit=True, return_train_score=False,\n",
       "             scoring='neg_mean_squared_log_error', verbose=0)"
      ]
     },
     "execution_count": 94,
     "metadata": {},
     "output_type": "execute_result"
    }
   ],
   "source": [
    "# Number of trees to use\n",
    "list_n_trees = [500, 800, 1000, 1500]\n",
    "max_features = [0.2, 0.3, 0.5, 0.7, 0.8]\n",
    "list_min_sample_leaf= [10, 30, 50, 70]\n",
    "\n",
    "# Define the grid of parameters to test\n",
    "param_grid ={'n_estimators': list_n_trees, 'max_features':max_features, 'min_samples_leaf':list_min_sample_leaf }\n",
    "\n",
    "# Initialize a GridSearchCV object that will be used to cross-validate\n",
    "# a random forest with these parameters.\n",
    "regr_rf = GridSearchCV(RandomForestRegressor(n_jobs=-1), \n",
    "                                    param_grid=param_grid,\n",
    "                                    scoring='neg_mean_squared_log_error',\n",
    "                                    cv=folds_regr,\n",
    "                                    n_jobs=-1)\n",
    "# run the cross validation using train dataset\n",
    "regr_rf.fit(X_train_projected, y_tr)"
   ]
  },
  {
   "cell_type": "code",
   "execution_count": 95,
   "metadata": {},
   "outputs": [
    {
     "name": "stdout",
     "output_type": "stream",
     "text": [
      "best_score  -1.0953312250306808\n",
      "Scaled reduced, RF (nb_trees=8.00e+02), (max_features=0.500), (min_sample_leaf=30.000): rmsle = 1.047\n"
     ]
    }
   ],
   "source": [
    "# get mean scores of the best model\n",
    "best_score=regr_rf.best_score_\n",
    "print(\"best_score \", best_score)\n",
    "# optimal value of C\n",
    "n_trees_opt = dict(regr_rf.best_estimator_.get_params(deep=False).items())['n_estimators']\n",
    "max_features_opt = dict(regr_rf.best_estimator_.get_params(deep=False).items())['max_features']\n",
    "min_sample_leaf_opt = dict(regr_rf.best_estimator_.get_params(deep=False).items())['min_samples_leaf']\n",
    "rmsle_rf_opt_pca=math.sqrt(abs(best_score))\n",
    "\n",
    "print(\"Scaled reduced, RF (nb_trees=%.2e), (max_features=%.3f), (min_sample_leaf=%.3f): rmsle = %.3f\" % (n_trees_opt, \n",
    "                                                max_features_opt,\n",
    "                                                min_sample_leaf_opt,\n",
    "                                                rmsle_rf_opt_pca))\n",
    "regr_rf_opt_pca=rf_best=regr_rf.best_estimator_"
   ]
  },
  {
   "cell_type": "markdown",
   "metadata": {},
   "source": [
    "As before the results are not that good"
   ]
  },
  {
   "cell_type": "markdown",
   "metadata": {},
   "source": [
    "Now the  <b>Bagging trees</b>"
   ]
  },
  {
   "cell_type": "markdown",
   "metadata": {},
   "source": [
    "First let's explore a simple <b>Bagging trees model</b> using a simple <b>SVM as a base estimator</b>. We will set up the hyperparameters later"
   ]
  },
  {
   "cell_type": "code",
   "execution_count": 96,
   "metadata": {},
   "outputs": [],
   "source": [
    "#initialize the model\n",
    "regr_br_pca = BaggingRegressor(base_estimator=SVR(kernel='rbf'), n_estimators=300, max_features=0.3, max_samples=0.2, n_jobs=-1, random_state=0) "
   ]
  },
  {
   "cell_type": "code",
   "execution_count": 97,
   "metadata": {},
   "outputs": [
    {
     "name": "stderr",
     "output_type": "stream",
     "text": [
      "/opt/tljh/user/lib/python3.6/site-packages/sklearn/model_selection/_split.py:657: Warning: The least populated class in y has only 1 members, which is too few. The minimum number of members in any class cannot be less than n_splits=5.\n",
      "  % (min_groups, self.n_splits)), Warning)\n"
     ]
    }
   ],
   "source": [
    "score = cross_val_score(regr_br_pca, X_train_projected, y_tr, scoring=\"neg_mean_squared_log_error\", cv=folds_regr, n_jobs=-1)"
   ]
  },
  {
   "cell_type": "code",
   "execution_count": 98,
   "metadata": {},
   "outputs": [
    {
     "name": "stdout",
     "output_type": "stream",
     "text": [
      "0.935596181079028\n"
     ]
    }
   ],
   "source": [
    "#rmsle score of the model\n",
    "rmsle_br_pca=math.sqrt(abs(np.average(score)))\n",
    "\n",
    "print(rmsle_br_pca)"
   ]
  },
  {
   "cell_type": "markdown",
   "metadata": {},
   "source": [
    "Let's try to tune our hyperparameters."
   ]
  },
  {
   "cell_type": "code",
   "execution_count": 99,
   "metadata": {},
   "outputs": [
    {
     "name": "stderr",
     "output_type": "stream",
     "text": [
      "/opt/tljh/user/lib/python3.6/site-packages/sklearn/model_selection/_split.py:657: Warning: The least populated class in y has only 1 members, which is too few. The minimum number of members in any class cannot be less than n_splits=5.\n",
      "  % (min_groups, self.n_splits)), Warning)\n",
      "/opt/tljh/user/lib/python3.6/site-packages/sklearn/model_selection/_search.py:814: DeprecationWarning: The default of the `iid` parameter will change from True to False in version 0.22 and will be removed in 0.24. This will change numeric results when test-set sizes are unequal.\n",
      "  DeprecationWarning)\n"
     ]
    },
    {
     "data": {
      "text/plain": [
       "GridSearchCV(cv=StratifiedKFold(n_splits=5, random_state=None, shuffle=True),\n",
       "             error_score='raise-deprecating',\n",
       "             estimator=BaggingRegressor(base_estimator=SVR(C=1.0,\n",
       "                                                           cache_size=200,\n",
       "                                                           coef0=0.0, degree=3,\n",
       "                                                           epsilon=0.1,\n",
       "                                                           gamma='auto_deprecated',\n",
       "                                                           kernel='rbf',\n",
       "                                                           max_iter=-1,\n",
       "                                                           shrinking=True,\n",
       "                                                           tol=0.001,\n",
       "                                                           verbose=False),\n",
       "                                        bootstrap=True,\n",
       "                                        bootstrap_features=False,\n",
       "                                        max_features=1.0, max_samples=1.0,\n",
       "                                        n_estimators=10, n_jobs=-1,\n",
       "                                        oob_score=False, random_state=0,\n",
       "                                        verbose=0, warm_start=False),\n",
       "             iid='warn', n_jobs=-1,\n",
       "             param_grid={'max_features': [0.1], 'max_samples': [0.8],\n",
       "                         'n_estimators': [30]},\n",
       "             pre_dispatch='2*n_jobs', refit=True, return_train_score=False,\n",
       "             scoring='neg_mean_squared_log_error', verbose=0)"
      ]
     },
     "execution_count": 99,
     "metadata": {},
     "output_type": "execute_result"
    }
   ],
   "source": [
    "# Number of trees to use\n",
    "list_n_trees = [30, 40, 50, 60, 70] \n",
    "max_features = [0.1, 0.3, 0.5, 0.7]\n",
    "max_samples= [0.2, 0.4, 0.6, 0.8]\n",
    "\n",
    "# Define the grid of parameters to test\n",
    "param_grid ={'n_estimators': list_n_trees, 'max_features':max_features, 'max_samples':max_samples}\n",
    "\n",
    "# Initialize a GridSearchCV object that will be used to cross-validate\n",
    "# a bagging trees with these parameters.\n",
    "regr_br = GridSearchCV(BaggingRegressor(SVR(kernel='rbf'), n_jobs=-1, random_state=0), \n",
    "                                    param_grid=param_grid,\n",
    "                                    scoring='neg_mean_squared_log_error',\n",
    "                                    cv=folds_regr,\n",
    "                                    n_jobs=-1)\n",
    "\n",
    "# run the cross validation using train dataset\n",
    "regr_br.fit(X_train_projected, y_tr)"
   ]
  },
  {
   "cell_type": "code",
   "execution_count": 100,
   "metadata": {},
   "outputs": [
    {
     "name": "stdout",
     "output_type": "stream",
     "text": [
      "Scaled reduced, BR (nb_trees=3.00e+01), (max_features=0.100), (max_samples=0.800), (base_estimator=SVR): rmsle = 0.933\n"
     ]
    }
   ],
   "source": [
    "# get mean scores of the best model\n",
    "best_score=regr_br.best_score_\n",
    "\n",
    "# optimal value of C\n",
    "n_trees_opt = dict(regr_br.best_estimator_.get_params(deep=False).items())['n_estimators']\n",
    "max_features_opt = dict(regr_br.best_estimator_.get_params(deep=False).items())['max_features']\n",
    "max_samples_opt = dict(regr_br.best_estimator_.get_params(deep=False).items())['max_samples']\n",
    "base_estimator_opt=dict(regr_br.best_estimator_.get_params(deep=False).items())['base_estimator']\n",
    "\n",
    "rmsle_br_opt_pca=math.sqrt(abs(best_score))\n",
    "\n",
    "print(\"Scaled reduced, BR (nb_trees=%.2e), (max_features=%.3f), (max_samples=%.3f), (base_estimator=%.3s): rmsle = %.3f\" % (n_trees_opt, \n",
    "                                                max_features_opt,\n",
    "                                                max_samples_opt,\n",
    "                                                base_estimator_opt,                                                                    \n",
    "                                                rmsle_br_opt_pca))\n",
    "regr_br_opt_pca=regr_br.best_estimator_\n"
   ]
  },
  {
   "cell_type": "markdown",
   "metadata": {},
   "source": [
    "The results are compared to the one before the PCA"
   ]
  },
  {
   "cell_type": "markdown",
   "metadata": {},
   "source": [
    "Let's see what happen with <b>MARS</b>"
   ]
  },
  {
   "cell_type": "code",
   "execution_count": 129,
   "metadata": {},
   "outputs": [],
   "source": [
    "#define model\n",
    "model_mars_pca = Earth()"
   ]
  },
  {
   "cell_type": "code",
   "execution_count": 130,
   "metadata": {},
   "outputs": [
    {
     "name": "stderr",
     "output_type": "stream",
     "text": [
      "/opt/tljh/user/lib/python3.6/site-packages/sklearn/model_selection/_split.py:657: Warning: The least populated class in y has only 1 members, which is too few. The minimum number of members in any class cannot be less than n_splits=5.\n",
      "  % (min_groups, self.n_splits)), Warning)\n"
     ]
    }
   ],
   "source": [
    "#evaluation of the model\n",
    "score = cross_val_score(regr_br_pca, X_train_projected, y_tr, scoring=make_scorer(custom_rmsle_error, greater_is_better=False), cv=folds_regr, n_jobs=-1)"
   ]
  },
  {
   "cell_type": "code",
   "execution_count": 131,
   "metadata": {},
   "outputs": [
    {
     "name": "stdout",
     "output_type": "stream",
     "text": [
      "0.9360420526198067\n"
     ]
    }
   ],
   "source": [
    "#rmsle score of the model\n",
    "rmsle_mars_pca=math.sqrt(abs(np.average(score)))\n",
    "\n",
    "print(rmsle_mars_pca)"
   ]
  },
  {
   "cell_type": "markdown",
   "metadata": {},
   "source": [
    "As before I didn't tune the hyperparameters for the same reasons."
   ]
  },
  {
   "cell_type": "markdown",
   "metadata": {},
   "source": [
    "For last the <b>gradient Boosting algorithm</b>."
   ]
  },
  {
   "cell_type": "code",
   "execution_count": 132,
   "metadata": {},
   "outputs": [],
   "source": [
    "#initialize the model\n",
    "regr_gb_pca = GradientBoostingRegressor(random_state=0)"
   ]
  },
  {
   "cell_type": "code",
   "execution_count": 133,
   "metadata": {},
   "outputs": [
    {
     "name": "stderr",
     "output_type": "stream",
     "text": [
      "/opt/tljh/user/lib/python3.6/site-packages/sklearn/model_selection/_split.py:657: Warning: The least populated class in y has only 1 members, which is too few. The minimum number of members in any class cannot be less than n_splits=5.\n",
      "  % (min_groups, self.n_splits)), Warning)\n"
     ]
    }
   ],
   "source": [
    "# compute the score \n",
    "score = cross_val_score(regr_br_pca, X_train_projected, y_tr, scoring=make_scorer(custom_rmsle_error, greater_is_better=False), cv=folds_regr, n_jobs=-1)"
   ]
  },
  {
   "cell_type": "code",
   "execution_count": 134,
   "metadata": {},
   "outputs": [
    {
     "name": "stdout",
     "output_type": "stream",
     "text": [
      "0.9351594847741964\n"
     ]
    }
   ],
   "source": [
    "#rmsle score of the model\n",
    "rmsle_gb_pca=math.sqrt(abs(np.average(score)))\n",
    "\n",
    "print(rmsle_gb_pca)"
   ]
  },
  {
   "cell_type": "markdown",
   "metadata": {},
   "source": [
    "We runned first the the algorithm with the default value and we got a bad score. let's see if we can do better with the hyperparameters tuning. "
   ]
  },
  {
   "cell_type": "code",
   "execution_count": 135,
   "metadata": {},
   "outputs": [
    {
     "name": "stderr",
     "output_type": "stream",
     "text": [
      "/opt/tljh/user/lib/python3.6/site-packages/sklearn/model_selection/_split.py:657: Warning: The least populated class in y has only 1 members, which is too few. The minimum number of members in any class cannot be less than n_splits=5.\n",
      "  % (min_groups, self.n_splits)), Warning)\n",
      "/opt/tljh/user/lib/python3.6/site-packages/sklearn/model_selection/_search.py:814: DeprecationWarning: The default of the `iid` parameter will change from True to False in version 0.22 and will be removed in 0.24. This will change numeric results when test-set sizes are unequal.\n",
      "  DeprecationWarning)\n"
     ]
    },
    {
     "data": {
      "text/plain": [
       "GridSearchCV(cv=StratifiedKFold(n_splits=5, random_state=None, shuffle=True),\n",
       "             error_score='raise-deprecating',\n",
       "             estimator=GradientBoostingRegressor(alpha=0.9,\n",
       "                                                 criterion='friedman_mse',\n",
       "                                                 init=None, learning_rate=0.1,\n",
       "                                                 loss='ls', max_depth=3,\n",
       "                                                 max_features=None,\n",
       "                                                 max_leaf_nodes=None,\n",
       "                                                 min_impurity_decrease=0.0,\n",
       "                                                 min_impurity_split=None,\n",
       "                                                 min_samples_leaf=1,\n",
       "                                                 min_samples_spl...\n",
       "                                                 verbose=0, warm_start=False),\n",
       "             iid='warn', n_jobs=-1,\n",
       "             param_grid={'learning_rate': [0.15], 'max_depth': [2],\n",
       "                         'max_features': [0.1], 'min_samples_leaf': [5],\n",
       "                         'min_weight_fraction_leaf': [0], 'n_estimators': [500],\n",
       "                         'subsample': [0.001]},\n",
       "             pre_dispatch='2*n_jobs', refit=True, return_train_score=False,\n",
       "             scoring=make_scorer(custom_rmsle_error, greater_is_better=False),\n",
       "             verbose=0)"
      ]
     },
     "execution_count": 135,
     "metadata": {},
     "output_type": "execute_result"
    }
   ],
   "source": [
    "# Number of trees to use\n",
    "list_n_trees = [100, 300, 500, 700, 900, 1000] \n",
    "max_features = [0.1, 0.3, 0.5, 0.7]\n",
    "min_samples_leaf= [1, 2, 5, 10]\n",
    "max_depth= [2, 3, 4]\n",
    "subsample= [0.001, 0.01, 0.1]\n",
    "min_weight_fraction_leaf= [0, 0.1, 0.15, 0.2]\n",
    "learning_rate= [ 0.01, 0.05 ,0.1, 0.15]\n",
    "\n",
    "# Define the grid of parameters to test\n",
    "param_grid ={'n_estimators': list_n_trees, 'max_features':max_features, 'min_samples_leaf':min_samples_leaf, 'max_depth':max_depth, 'subsample': subsample, 'min_weight_fraction_leaf': min_weight_fraction_leaf, 'learning_rate': learning_rate}\n",
    "\n",
    "# Initialize a GridSearchCV object that will be used to cross-validate\n",
    "# a bagging trees with these parameters.\n",
    "regr_gb = GridSearchCV(GradientBoostingRegressor(random_state=0), \n",
    "                                    param_grid=param_grid,\n",
    "                                    scoring=make_scorer(custom_rmsle_error, greater_is_better=False),\n",
    "                                    cv=folds_regr,\n",
    "                                    n_jobs=-1)\n",
    "\n",
    "# run the cross validation using train dataset\n",
    "regr_gb.fit(X_train_projected, y_tr)"
   ]
  },
  {
   "cell_type": "code",
   "execution_count": 136,
   "metadata": {},
   "outputs": [
    {
     "name": "stdout",
     "output_type": "stream",
     "text": [
      "Scaled reduced, GB (nb_trees=5.00e+02), (max_features=0.100), (min_samples_leaf_opt=5.000), (max_depth_opt=2.000), (subsample_opt=0.001000), (min_weight_fraction_leaf=0.000000), (learning_rate=0.150) : rmsle = 1.251\n"
     ]
    }
   ],
   "source": [
    "# get mean scores of the best model\n",
    "best_score=regr_gb.best_score_\n",
    "\n",
    "# optimal value of C\n",
    "n_trees_opt = dict(regr_gb.best_estimator_.get_params(deep=False).items())['n_estimators']\n",
    "max_features_opt = dict(regr_gb.best_estimator_.get_params(deep=False).items())['max_features']\n",
    "min_samples_leaf_opt = dict(regr_gb.best_estimator_.get_params(deep=False).items())['min_samples_leaf']\n",
    "max_depth_opt=dict(regr_gb.best_estimator_.get_params(deep=False).items())['max_depth']\n",
    "subsample_opt=dict(regr_gb.best_estimator_.get_params(deep=False).items())['subsample']\n",
    "min_weight_fraction_leaf_opt=dict(regr_gb.best_estimator_.get_params(deep=False).items())['min_weight_fraction_leaf']\n",
    "learning_rate_opt=dict(regr_gb.best_estimator_.get_params(deep=False).items())['learning_rate']\n",
    "\n",
    "\n",
    "\n",
    "rmsle_gb_opt_pca=math.sqrt(abs(best_score))\n",
    "\n",
    "print(\"Scaled reduced, GB (nb_trees=%.2e), (max_features=%.3f), (min_samples_leaf_opt=%.3f), (max_depth_opt=%.3f), (subsample_opt=%f), (min_weight_fraction_leaf=%f), (learning_rate=%.3f) : rmsle = %.3f\" % \n",
    "                                                (n_trees_opt, \n",
    "                                                max_features_opt,\n",
    "                                                min_samples_leaf_opt,\n",
    "                                                max_depth_opt,\n",
    "                                                subsample_opt,\n",
    "                                                min_weight_fraction_leaf_opt,\n",
    "                                                learning_rate_opt,\n",
    "                                                rmsle_gb_opt))\n",
    "regr_gb_opt_pca=regr_gb.best_estimator_\n"
   ]
  },
  {
   "cell_type": "markdown",
   "metadata": {},
   "source": [
    "We' ve got a slightly better result but nothing special. "
   ]
  },
  {
   "cell_type": "markdown",
   "metadata": {},
   "source": [
    "Let's resume our result in a dataframe shown below."
   ]
  },
  {
   "cell_type": "code",
   "execution_count": 110,
   "metadata": {},
   "outputs": [
    {
     "data": {
      "text/html": [
       "<div>\n",
       "<style scoped>\n",
       "    .dataframe tbody tr th:only-of-type {\n",
       "        vertical-align: middle;\n",
       "    }\n",
       "\n",
       "    .dataframe tbody tr th {\n",
       "        vertical-align: top;\n",
       "    }\n",
       "\n",
       "    .dataframe thead th {\n",
       "        text-align: right;\n",
       "    }\n",
       "</style>\n",
       "<table border=\"1\" class=\"dataframe\">\n",
       "  <thead>\n",
       "    <tr style=\"text-align: right;\">\n",
       "      <th></th>\n",
       "      <th>model</th>\n",
       "      <th>Parameters</th>\n",
       "      <th>RMSLE</th>\n",
       "    </tr>\n",
       "  </thead>\n",
       "  <tbody>\n",
       "    <tr>\n",
       "      <th>0</th>\n",
       "      <td>Ridge logistic reg</td>\n",
       "      <td>{'C': 0.06158482110660261}</td>\n",
       "      <td>0.963839</td>\n",
       "    </tr>\n",
       "    <tr>\n",
       "      <th>1</th>\n",
       "      <td>SVM-rbf</td>\n",
       "      <td>{'C': 1000.0, 'gamma': 0.039810717055349734, '...</td>\n",
       "      <td>0.880720</td>\n",
       "    </tr>\n",
       "    <tr>\n",
       "      <th>2</th>\n",
       "      <td>SVM-linear</td>\n",
       "      <td>{'C': 1000.0, 'epsilon': 0.1668100537200059}</td>\n",
       "      <td>0.897284</td>\n",
       "    </tr>\n",
       "    <tr>\n",
       "      <th>3</th>\n",
       "      <td>Random Forest</td>\n",
       "      <td>{'max_features': 0.5, 'n_estimators': 800, 'mi...</td>\n",
       "      <td>1.046581</td>\n",
       "    </tr>\n",
       "    <tr>\n",
       "      <th>4</th>\n",
       "      <td>Bagging</td>\n",
       "      <td>{'base_estimator': SVR(C=1.0, cache_size=200, ...</td>\n",
       "      <td>0.932612</td>\n",
       "    </tr>\n",
       "    <tr>\n",
       "      <th>5</th>\n",
       "      <td>MARS</td>\n",
       "      <td>{'max_degree': [None, 'default: 1'], 'max_term...</td>\n",
       "      <td>0.936226</td>\n",
       "    </tr>\n",
       "    <tr>\n",
       "      <th>6</th>\n",
       "      <td>Gradient Boosting</td>\n",
       "      <td>{'n_estimators': 500, 'max_features': 0.1, 'mi...</td>\n",
       "      <td>1.133375</td>\n",
       "    </tr>\n",
       "  </tbody>\n",
       "</table>\n",
       "</div>"
      ],
      "text/plain": [
       "                model                                         Parameters  \\\n",
       "0  Ridge logistic reg                         {'C': 0.06158482110660261}   \n",
       "1             SVM-rbf  {'C': 1000.0, 'gamma': 0.039810717055349734, '...   \n",
       "2          SVM-linear       {'C': 1000.0, 'epsilon': 0.1668100537200059}   \n",
       "3       Random Forest  {'max_features': 0.5, 'n_estimators': 800, 'mi...   \n",
       "4             Bagging  {'base_estimator': SVR(C=1.0, cache_size=200, ...   \n",
       "5                MARS  {'max_degree': [None, 'default: 1'], 'max_term...   \n",
       "6   Gradient Boosting  {'n_estimators': 500, 'max_features': 0.1, 'mi...   \n",
       "\n",
       "      RMSLE  \n",
       "0  0.963839  \n",
       "1  0.880720  \n",
       "2  0.897284  \n",
       "3  1.046581  \n",
       "4  0.932612  \n",
       "5  0.936226  \n",
       "6  1.133375  "
      ]
     },
     "execution_count": 110,
     "metadata": {},
     "output_type": "execute_result"
    }
   ],
   "source": [
    "data = [['Ridge logistic reg',{'C': logreg_l2_opt_pca.get_params(deep=False)['C']}, rmsle_logreg_l2_opt_pca],\n",
    "        ['SVM-rbf',{'C': regr_svr_rbf_opt_pca.get_params(deep=False)['C'], 'gamma': regr_svr_rbf_opt_pca.get_params(deep=False)['gamma'], 'epsilon': regr_svr_rbf_opt_pca.get_params(deep=False)['epsilon'] }, rmsle_svr_rbf_opt_pca],\n",
    "        ['SVM-linear',{'C': regr_svr_lin_opt_pca.get_params(deep=False)['C'], 'epsilon': regr_svr_lin_opt_pca.get_params(deep=False)['epsilon']}, rmsle_svr_lin_opt_pca],\n",
    "        ['Random Forest',{'max_features': regr_rf_opt_pca.get_params(deep=False)['max_features'], 'n_estimators': regr_rf_opt_pca.get_params(deep=False)['n_estimators'], 'min_samples_leaf': regr_rf_opt_pca.get_params(deep=False)['min_samples_leaf'] }, rmsle_rf_opt_pca],\n",
    "        ['Bagging',{'base_estimator': regr_br_opt_pca.get_params(deep=False)['base_estimator'], 'max_features': regr_br_opt_pca.get_params(deep=False)['max_features'], 'n_estimators': regr_br_opt_pca.get_params(deep=False)['n_estimators'], 'max_samples': regr_br_opt_pca.get_params(deep=False)['max_samples'] }, rmsle_br_opt_pca],\n",
    "        ['MARS', {'max_degree': [model_mars_pca.get_params(deep=False)['max_degree'] ,\"default: 1\"] , 'max_terms': [model_mars_pca.get_params(deep=False)['max_terms'], \"default: min(2 * nb_features + nb_rows // 10, 400)\"]}, rmsle_mars_pca ],\n",
    "        ['Gradient Boosting',{'n_estimators': regr_gb_opt_pca.get_params(deep=False)['n_estimators'], 'max_features': regr_gb_opt_pca.get_params(deep=False)['max_features'], 'min_samples_leaf': regr_gb_opt_pca.get_params(deep=False)['min_samples_leaf'],  'max_depth': regr_gb_opt_pca.get_params(deep=False)['max_depth'], 'subsample': regr_gb_opt_pca.get_params(deep=False)['subsample'], 'min_weight_fraction_leaf': regr_gb_opt_pca.get_params(deep=False)['min_weight_fraction_leaf'], 'learning_rate': regr_gb_opt_pca.get_params(deep=False)['learning_rate']}, rmsle_gb_opt_pca]]\n",
    "df_pca = pd.DataFrame(data,columns=['model','Parameters', 'RMSLE'])\n"
   ]
  },
  {
   "cell_type": "code",
   "execution_count": 124,
   "metadata": {},
   "outputs": [
    {
     "name": "stdout",
     "output_type": "stream",
     "text": [
      "Stored 'df_pca' (DataFrame)\n",
      "Stored 'df' (DataFrame)\n",
      "Stored 'logreg_l2_opt_pca' (LogisticRegression)\n",
      "Stored 'regr_svr_rbf_opt_pca' (SVR)\n",
      "Stored 'regr_svr_lin_opt_pca' (SVR)\n",
      "Stored 'regr_rf_opt_pca' (RandomForestRegressor)\n",
      "Stored 'regr_br_opt_pca' (BaggingRegressor)\n",
      "Stored 'model_mars_pca' (Earth)\n",
      "Stored 'regr_gb_opt_pca' (GradientBoostingRegressor)\n",
      "Stored 'logreg_l2_opt' (LogisticRegression)\n",
      "Stored 'regr_svr_rbf_opt' (SVR)\n",
      "Stored 'regr_svr_lin_opt' (SVR)\n",
      "Stored 'regr_rf_opt' (RandomForestRegressor)\n",
      "Stored 'regr_br_opt' (BaggingRegressor)\n",
      "Stored 'model_mars' (Earth)\n",
      "Stored 'regr_gb_opt' (GradientBoostingRegressor)\n"
     ]
    }
   ],
   "source": [
    "%store df_pca\n",
    "%store df\n",
    "\n",
    "%store logreg_l2_opt_pca\n",
    "%store regr_svr_rbf_opt_pca\n",
    "%store regr_svr_lin_opt_pca\n",
    "%store regr_rf_opt_pca\n",
    "%store regr_br_opt_pca\n",
    "%store model_mars_pca\n",
    "%store regr_gb_opt_pca\n",
    "\n",
    "%store logreg_l2_opt\n",
    "%store regr_svr_rbf_opt\n",
    "%store regr_svr_lin_opt\n",
    "%store regr_rf_opt\n",
    "%store regr_br_opt\n",
    "%store model_mars\n",
    "%store regr_gb_opt\n"
   ]
  },
  {
   "cell_type": "markdown",
   "metadata": {},
   "source": [
    "According to the result our best model is the <b>SVM with an rbf kernel</b> and it's the one we will for our kaggle competition."
   ]
  },
  {
   "cell_type": "markdown",
   "metadata": {},
   "source": [
    "Let's train our best model on our complete training data set."
   ]
  },
  {
   "cell_type": "code",
   "execution_count": 138,
   "metadata": {},
   "outputs": [],
   "source": [
    "#train our model on all the data set\n",
    "regr_svr_rbf_opt_pca.fit(X_train_projected, y_tr)\n",
    "\n",
    "#generate a prediction: the floor is to remove the float since the predictions must be integers\n",
    "y_pred_test_svr_rbf_opt_pca=floor(regr_svr_rbf_opt_pca.predict(X_test_projected))"
   ]
  },
  {
   "cell_type": "code",
   "execution_count": 139,
   "metadata": {},
   "outputs": [
    {
     "data": {
      "text/html": [
       "<div>\n",
       "<style scoped>\n",
       "    .dataframe tbody tr th:only-of-type {\n",
       "        vertical-align: middle;\n",
       "    }\n",
       "\n",
       "    .dataframe tbody tr th {\n",
       "        vertical-align: top;\n",
       "    }\n",
       "\n",
       "    .dataframe thead th {\n",
       "        text-align: right;\n",
       "    }\n",
       "</style>\n",
       "<table border=\"1\" class=\"dataframe\">\n",
       "  <thead>\n",
       "    <tr style=\"text-align: right;\">\n",
       "      <th></th>\n",
       "      <th>Prediction</th>\n",
       "    </tr>\n",
       "    <tr>\n",
       "      <th>Id</th>\n",
       "      <th></th>\n",
       "    </tr>\n",
       "  </thead>\n",
       "  <tbody>\n",
       "    <tr>\n",
       "      <th>0</th>\n",
       "      <td>1676.0</td>\n",
       "    </tr>\n",
       "    <tr>\n",
       "      <th>1</th>\n",
       "      <td>1706.0</td>\n",
       "    </tr>\n",
       "    <tr>\n",
       "      <th>2</th>\n",
       "      <td>1257.0</td>\n",
       "    </tr>\n",
       "    <tr>\n",
       "      <th>3</th>\n",
       "      <td>2084.0</td>\n",
       "    </tr>\n",
       "    <tr>\n",
       "      <th>4</th>\n",
       "      <td>1852.0</td>\n",
       "    </tr>\n",
       "    <tr>\n",
       "      <th>...</th>\n",
       "      <td>...</td>\n",
       "    </tr>\n",
       "    <tr>\n",
       "      <th>1995</th>\n",
       "      <td>2872.0</td>\n",
       "    </tr>\n",
       "    <tr>\n",
       "      <th>1996</th>\n",
       "      <td>1331.0</td>\n",
       "    </tr>\n",
       "    <tr>\n",
       "      <th>1997</th>\n",
       "      <td>2021.0</td>\n",
       "    </tr>\n",
       "    <tr>\n",
       "      <th>1998</th>\n",
       "      <td>1440.0</td>\n",
       "    </tr>\n",
       "    <tr>\n",
       "      <th>1999</th>\n",
       "      <td>1379.0</td>\n",
       "    </tr>\n",
       "  </tbody>\n",
       "</table>\n",
       "<p>2000 rows × 1 columns</p>\n",
       "</div>"
      ],
      "text/plain": [
       "      Prediction\n",
       "Id              \n",
       "0         1676.0\n",
       "1         1706.0\n",
       "2         1257.0\n",
       "3         2084.0\n",
       "4         1852.0\n",
       "...          ...\n",
       "1995      2872.0\n",
       "1996      1331.0\n",
       "1997      2021.0\n",
       "1998      1440.0\n",
       "1999      1379.0\n",
       "\n",
       "[2000 rows x 1 columns]"
      ]
     },
     "execution_count": 139,
     "metadata": {},
     "output_type": "execute_result"
    }
   ],
   "source": [
    "# save our result on a data frame\n",
    "y_result = pd.DataFrame(y_pred_test_svr_rbf_opt_pca,columns=['Prediction'])\n",
    "y_result.index.name = 'Id'\n",
    "y_result"
   ]
  },
  {
   "cell_type": "code",
   "execution_count": 140,
   "metadata": {},
   "outputs": [],
   "source": [
    "#save our predictions in a file \n",
    "y_result.to_csv('data/prediction_svm_rbf_pca.csv', index=True)"
   ]
  },
  {
   "cell_type": "markdown",
   "metadata": {},
   "source": [
    "this is the file we will use for the kaggle test. according to the results of the test we may choose the same model we got before the PCA"
   ]
  },
  {
   "cell_type": "markdown",
   "metadata": {},
   "source": [
    "______________________________________________________________________________________________"
   ]
  },
  {
   "cell_type": "markdown",
   "metadata": {},
   "source": [
    "### Saving our variables "
   ]
  },
  {
   "cell_type": "markdown",
   "metadata": {},
   "source": [
    "let's save our models and results to avoid loosing them if the server restart (it happenend many times and reruning everything is masive lose of time)"
   ]
  },
  {
   "cell_type": "code",
   "execution_count": 127,
   "metadata": {},
   "outputs": [],
   "source": [
    "import pickle\n",
    "\n",
    "with open(\"data/results.bin\",\"wb\") as f:\n",
    "    pickle.dump(df, f)\n",
    "    pickle.dump(df_pca, f)\n",
    "\n",
    "\n",
    "with open(\"data/binary_models.bin\",\"wb\") as f:\n",
    "    pickle.dump(logreg_l2_opt_pca, f)\n",
    "    pickle.dump(regr_svr_rbf_opt_pca, f)\n",
    "    pickle.dump(regr_svr_lin_opt_pca, f)\n",
    "    pickle.dump(regr_rf_opt_pca, f)\n",
    "    pickle.dump(regr_br_opt_pca, f)\n",
    "    pickle.dump(model_mars_pca, f)\n",
    "    pickle.dump(regr_gb_opt_pca, f)\n",
    "    pickle.dump(logreg_l2_opt, f)\n",
    "    pickle.dump(regr_svr_rbf_opt, f)\n",
    "    pickle.dump(regr_svr_lin_opt, f)\n",
    "    pickle.dump(regr_rf_opt, f)\n",
    "    pickle.dump(regr_br_opt, f)\n",
    "    pickle.dump(model_mars, f)\n",
    "    pickle.dump(regr_gb_opt, f)\n"
   ]
  },
  {
   "cell_type": "code",
   "execution_count": 128,
   "metadata": {},
   "outputs": [],
   "source": [
    "df.to_csv('data/model_results.csv', index=True)\n",
    "df_pca.to_csv('data/model_results_pca.csv', index=True)"
   ]
  },
  {
   "cell_type": "code",
   "execution_count": null,
   "metadata": {},
   "outputs": [],
   "source": []
  }
 ],
 "metadata": {
  "kernelspec": {
   "display_name": "Python 3",
   "language": "python",
   "name": "python3"
  },
  "language_info": {
   "codemirror_mode": {
    "name": "ipython",
    "version": 3
   },
   "file_extension": ".py",
   "mimetype": "text/x-python",
   "name": "python",
   "nbconvert_exporter": "python",
   "pygments_lexer": "ipython3",
   "version": "3.6.11"
  }
 },
 "nbformat": 4,
 "nbformat_minor": 4
}
